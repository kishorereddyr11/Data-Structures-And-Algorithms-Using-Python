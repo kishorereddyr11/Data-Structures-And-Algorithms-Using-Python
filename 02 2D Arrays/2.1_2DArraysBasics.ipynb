{
 "cells": [
  {
   "cell_type": "markdown",
   "id": "63662518",
   "metadata": {},
   "source": [
    "### 2D Arrays \n",
    "1. Find Maxium in 2D Array\n",
    "2. Sum of All Elements in 2D Array\n",
    "3. Add Two Matrix\n",
    "4. Transpose Matrix [Not InPlace] [Leet Code 867]\n",
    "5. Transpose Matrix [InPlace]\n",
    "6. Rotate Matrix By 90 deg [Leet Code 48]\n",
    "7. Matrix Multiplication"
   ]
  },
  {
   "cell_type": "code",
   "execution_count": 2,
   "id": "372ef837",
   "metadata": {},
   "outputs": [
    {
     "name": "stdout",
     "output_type": "stream",
     "text": [
      "rows:3, columns:3\n",
      "Print Array : \n",
      "1 2 3 \n",
      "4 5 6 \n",
      "7 8 9 \n"
     ]
    }
   ],
   "source": [
    "## 2D Array Delaration and asigning values\n",
    "matrix = [[1,2,3],[4,5,6],[7,8,9]]\n",
    "row = len(matrix)\n",
    "column = len(matrix[0])\n",
    "print(f\"rows:{row}, columns:{column}\")\n",
    "print(\"Print Array : \")\n",
    "for i in range(row):\n",
    "    for j in range(column):\n",
    "        print(matrix[i][j], end=\" \")\n",
    "    print()"
   ]
  },
  {
   "cell_type": "code",
   "execution_count": 8,
   "id": "3e200187",
   "metadata": {},
   "outputs": [
    {
     "name": "stdout",
     "output_type": "stream",
     "text": [
      "[[1, 2, 3], [4, 5, 6], [7, 8, 9]]\n"
     ]
    }
   ],
   "source": [
    "## Taking 2D Array Input\n",
    "## 1st Way of taking input\n",
    "rows =3\n",
    "columns = 3\n",
    "matrix = []\n",
    "for i in range(rows):\n",
    "    row = list(map(int,input().split()))\n",
    "    matrix.append(row)\n",
    "print(matrix)"
   ]
  },
  {
   "cell_type": "code",
   "execution_count": 9,
   "id": "a85ffb13",
   "metadata": {},
   "outputs": [
    {
     "name": "stdout",
     "output_type": "stream",
     "text": [
      "[[1, 2, 3], [4, 5, 6], [7, 8, 9]]\n"
     ]
    }
   ],
   "source": [
    "## 2nd Way\n",
    "rows = 3\n",
    "matrix = [list(map(int,input().split()))for _ in range(rows)]\n",
    "print(matrix)"
   ]
  },
  {
   "cell_type": "code",
   "execution_count": 15,
   "id": "ea7b7606",
   "metadata": {},
   "outputs": [
    {
     "name": "stdout",
     "output_type": "stream",
     "text": [
      "[[1, 2, 3], [4, 5, 6], [7, 8, 9]]\n"
     ]
    }
   ],
   "source": [
    "## 3rd way in controll of both rows and columns\n",
    "rows = 3\n",
    "col = 3\n",
    "matrix = []\n",
    "lst= [0 for _ in range(col)]\n",
    "for i in range(rows):\n",
    "    matrix.append(lst.copy())\n",
    "for i in range(rows):\n",
    "    for j in range(col):\n",
    "        matrix[i][j] = int(input())\n",
    "print(matrix)"
   ]
  },
  {
   "cell_type": "code",
   "execution_count": 16,
   "id": "52ddc79b",
   "metadata": {},
   "outputs": [
    {
     "name": "stdout",
     "output_type": "stream",
     "text": [
      "maximum in array is 83\n"
     ]
    }
   ],
   "source": [
    "## Find Maximum in 2D Array\n",
    "matrix = [[1, 12, 3], [4, 53, 6], [17, 83, 9]]\n",
    "max = float('-inf')\n",
    "for i in range(len(matrix)):\n",
    "    for j in range(len(matrix[0])):\n",
    "        if matrix[i][j]>max:\n",
    "            max = matrix[i][j]\n",
    "print(f\"maximum in array is {max}\")"
   ]
  },
  {
   "cell_type": "code",
   "execution_count": 17,
   "id": "c43cb9c3",
   "metadata": {},
   "outputs": [
    {
     "name": "stdout",
     "output_type": "stream",
     "text": [
      "sum of elements in matrix is 45\n"
     ]
    }
   ],
   "source": [
    "## Sum of All Elements in 2D array\n",
    "matrix = [[1, 2, 3], [4, 5, 6], [7, 8, 9]]\n",
    "sum = 0\n",
    "for i in range(len(matrix)):\n",
    "    for j in range(len(matrix[0])):\n",
    "        sum += matrix[i][j]\n",
    "print(f\"sum of elements in matrix is {sum}\")"
   ]
  },
  {
   "cell_type": "code",
   "execution_count": 18,
   "id": "9ac3a5fb",
   "metadata": {},
   "outputs": [
    {
     "name": "stdout",
     "output_type": "stream",
     "text": [
      "[[2, 4, 6], [8, 10, 12], [14, 16, 18]]\n"
     ]
    }
   ],
   "source": [
    "## Add Two Matrix\n",
    "matrix1 = [[1, 2, 3], [4, 5, 6], [7, 8, 9]]\n",
    "matrix2 = [[1, 2, 3], [4, 5, 6], [7, 8, 9]]\n",
    "## Update in matrix 1\n",
    "for i in range(len(matrix)):\n",
    "    for j in range(len(matrix[0])):\n",
    "        matrix1[i][j] = matrix1[i][j] + matrix2[i][j]\n",
    "print(matrix1)"
   ]
  },
  {
   "cell_type": "code",
   "execution_count": null,
   "id": "08cf8042",
   "metadata": {},
   "outputs": [
    {
     "name": "stdout",
     "output_type": "stream",
     "text": [
      "[[1, 4, 7], [2, 5, 8], [3, 6, 9]]\n"
     ]
    }
   ],
   "source": [
    "## Transpose of a Matrix Using extra space\n",
    "matrix = [[1, 2, 3], [4, 5, 6], [7, 8, 9]]\n",
    "row = 3\n",
    "col = 3\n",
    "rows = [0 for _ in range(col)]\n",
    "ans =  []\n",
    "for i in range(col):\n",
    "    ans.append(rows.copy())\n",
    "\n",
    "for i in range(row):\n",
    "    for j in range(col):\n",
    "        ans[i][j] = matrix[j][i]\n",
    "\n",
    "print(ans)"
   ]
  },
  {
   "cell_type": "code",
   "execution_count": 27,
   "id": "6499483b",
   "metadata": {},
   "outputs": [
    {
     "name": "stdout",
     "output_type": "stream",
     "text": [
      "[[1, 4, 7], [2, 5, 8], [3, 6, 9]]\n"
     ]
    }
   ],
   "source": [
    "## Transpose of a matrix without using extra space\n",
    "matrix = [[1, 2, 3], [4, 5, 6], [7, 8, 9]]\n",
    "row = 3\n",
    "col = 3\n",
    "for i in range(row):\n",
    "    for j in range(i+1,col):\n",
    "        matrix[i][j],matrix[j][i] = matrix[j][i],matrix[i][j]\n",
    "print(matrix)"
   ]
  },
  {
   "cell_type": "code",
   "execution_count": 28,
   "id": "7bda26ce",
   "metadata": {},
   "outputs": [
    {
     "name": "stdout",
     "output_type": "stream",
     "text": [
      "[[7, 4, 1], [8, 5, 2], [9, 6, 3]]\n"
     ]
    }
   ],
   "source": [
    "## Rotate Matrix by 90 deg\n",
    "matrix = [[1, 2, 3], [4, 5, 6], [7, 8, 9]]\n",
    "row = 3\n",
    "col = 3\n",
    "## Do Transpose first\n",
    "for i in range(row):\n",
    "    for j in range(i+1,col):\n",
    "        matrix[i][j],matrix[j][i] = matrix[j][i],matrix[i][j]\n",
    "## Reverse Each row then it will rotate 90 deg completly\n",
    "for rows in matrix:\n",
    "    rows.reverse()\n",
    "print(matrix)"
   ]
  },
  {
   "cell_type": "code",
   "execution_count": 31,
   "id": "3535ea99",
   "metadata": {},
   "outputs": [
    {
     "name": "stdout",
     "output_type": "stream",
     "text": [
      "[[19, 22], [43, 50]]\n"
     ]
    }
   ],
   "source": [
    "## Matrix Mulitplication\n",
    "matrix1 = [[1,2],[3,4]]\n",
    "matrix2 = [[5,6],[7,8]]\n",
    "row = 2\n",
    "common = 2\n",
    "col = 2\n",
    "ans = []\n",
    "sub = [0 for _ in range(col)]\n",
    "for i in range(row):\n",
    "    ans.append(sub.copy())\n",
    "for i in range(row):\n",
    "    for j in range(col):\n",
    "        for k in range(common):\n",
    "            ans[i][j] += matrix1[i][k]*matrix2[k][j]\n",
    "print(ans)\n",
    "\n"
   ]
  }
 ],
 "metadata": {
  "kernelspec": {
   "display_name": "Python 3",
   "language": "python",
   "name": "python3"
  },
  "language_info": {
   "codemirror_mode": {
    "name": "ipython",
    "version": 3
   },
   "file_extension": ".py",
   "mimetype": "text/x-python",
   "name": "python",
   "nbconvert_exporter": "python",
   "pygments_lexer": "ipython3",
   "version": "3.13.5"
  }
 },
 "nbformat": 4,
 "nbformat_minor": 5
}
