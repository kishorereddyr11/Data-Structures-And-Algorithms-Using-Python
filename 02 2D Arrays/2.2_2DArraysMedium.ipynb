{
 "cells": [
  {
   "cell_type": "markdown",
   "id": "46a25a4a",
   "metadata": {},
   "source": [
    "### 2D Array Medium\n",
    "1. Matrix Wave Form\n",
    "2. Matrix Wave Form in Reverse Order\n",
    "3. Spiral Matrix [Leet Code 54]\n",
    "4. Pascal's Triangle [Leet Code 118]\n",
    "5. Score After Flipping Matrix [Leet Code 861]\n",
    "6. Search In a 2D Matrix [Leet Code 240]"
   ]
  },
  {
   "cell_type": "code",
   "execution_count": null,
   "id": "cb27fdd0",
   "metadata": {},
   "outputs": [
    {
     "name": "stdout",
     "output_type": "stream",
     "text": [
      "1 2 3 6 5 4 7 8 9 "
     ]
    }
   ],
   "source": [
    "## Matrix Wave Form\n",
    "matrix = [[1,2,3],[4,5,6],[7,8,9]]\n",
    "row = len(matrix)\n",
    "col = len(matrix[0])\n",
    "for i in range(row):\n",
    "    if i%2==0:\n",
    "        for j in range(col):\n",
    "            print(matrix[i][j],end=\" \")\n",
    "    else:\n",
    "        for j in range(col-1,-1,-1):\n",
    "            print(matrix[i][j],end=\" \")"
   ]
  },
  {
   "cell_type": "code",
   "execution_count": 2,
   "id": "998d8e3f",
   "metadata": {},
   "outputs": [
    {
     "name": "stdout",
     "output_type": "stream",
     "text": [
      "7 8 9 6 5 4 1 2 3 "
     ]
    }
   ],
   "source": [
    "## Reverse Wave Form\n",
    "matrix = [[1,2,3],[4,5,6],[7,8,9]]\n",
    "row = len(matrix)\n",
    "col = len(matrix[0])\n",
    "for i in range(row-1,-1,-1):\n",
    "    if i%2==0:\n",
    "        for j in range(col):\n",
    "            print(matrix[i][j],end=\" \")\n",
    "    else:\n",
    "        for j in range(col-1,-1,-1):\n",
    "            print(matrix[i][j],end=\" \")"
   ]
  },
  {
   "cell_type": "code",
   "execution_count": 8,
   "id": "7a961f83",
   "metadata": {},
   "outputs": [
    {
     "name": "stdout",
     "output_type": "stream",
     "text": [
      "[1, 2, 3, 6, 9, 8, 7, 4, 5]\n"
     ]
    }
   ],
   "source": [
    "## Spiral Matrix\n",
    "def SpiralOrder(matrix):\n",
    "    m = len(matrix)\n",
    "    n = len(matrix[0])\n",
    "    t = m*n\n",
    "    res = []\n",
    "    count = 0\n",
    "    minr,minc = 0, 0 \n",
    "    maxr,maxc = m-1,n-1\n",
    "    while minr<=maxr and minc<=maxc:\n",
    "        for j in range(minc,maxc+1):\n",
    "            if count<t:\n",
    "                res.append(matrix[minr][j])\n",
    "                count+=1\n",
    "        minr+=1\n",
    "        for i in range(minr,maxr+1):\n",
    "            if count<t:\n",
    "                res.append(matrix[i][maxc])\n",
    "                count+=1\n",
    "        maxc-=1\n",
    "        for j in range(maxc,minc-1,-1):\n",
    "            if count<t:\n",
    "                res.append(matrix[maxr][j])\n",
    "                count+=1\n",
    "        maxr-=1\n",
    "        for i in range(maxr,minr-1,-1):\n",
    "            if count<t:\n",
    "                res.append(matrix[i][minc])\n",
    "                count+=1\n",
    "        minc+=1\n",
    "    return res\n",
    "matrix = [[1,2,3],[4,5,6],[7,8,9]]\n",
    "print(SpiralOrder(matrix))"
   ]
  },
  {
   "cell_type": "code",
   "execution_count": 10,
   "id": "0bf6894d",
   "metadata": {},
   "outputs": [
    {
     "name": "stdout",
     "output_type": "stream",
     "text": [
      "[[1], [1, 1], [1, 2, 1], [1, 3, 3, 1], [1, 4, 6, 4, 1], [1, 5, 10, 10, 5, 1]]\n"
     ]
    }
   ],
   "source": [
    "## Pascals Triange\n",
    "def generate(rows):\n",
    "    ans = []\n",
    "    for i in range(rows+1):\n",
    "        dummy = [0]*(i+1)\n",
    "        ans.append(dummy.copy())\n",
    "    for i in range(rows+1):\n",
    "        for j in range(i+1):\n",
    "            if j==0 or j==i:\n",
    "                ans[i][j]=1\n",
    "            else :\n",
    "                ans[i][j]=ans[i-1][j]+ans[i-1][j-1]\n",
    "    return ans\n",
    "numrows = 5\n",
    "print(generate(numrows))\n"
   ]
  },
  {
   "cell_type": "code",
   "execution_count": 17,
   "id": "307ea002",
   "metadata": {},
   "outputs": [
    {
     "name": "stdout",
     "output_type": "stream",
     "text": [
      "39\n",
      "[[1, 1, 1, 1], [1, 0, 0, 1], [1, 1, 1, 1]]\n"
     ]
    }
   ],
   "source": [
    "## Score After Flipping Matrix\n",
    "def MatrixScore(grid):\n",
    "    row = len(grid)\n",
    "    col = len(grid[0])\n",
    "    for i in range(row):\n",
    "        if grid[i][0]==0:\n",
    "            for j in range(col):\n",
    "                if grid[i][j]==1:\n",
    "                    grid[i][j]=0\n",
    "                else:\n",
    "                    grid[i][j]=1\n",
    "    for j in range(col):\n",
    "        noz,noo = 0,0\n",
    "        for i in range(row):\n",
    "            if grid[i][j]==0:\n",
    "                noz+=1\n",
    "            else:\n",
    "                noo+=1\n",
    "        if noo<noz:\n",
    "            for i in range(row):\n",
    "                if grid[i][j]==0:\n",
    "                    grid[i][j]=1\n",
    "                else:\n",
    "                    grid[i][j]=0\n",
    "    sum = 0\n",
    "    for i in range(row):\n",
    "        x=0\n",
    "        for j in range(col):\n",
    "            x = x * 2 + grid[i][j]\n",
    "        sum+=x\n",
    "    return sum\n",
    "matrix = [[0,0,1,1],[1,0,1,0],[1,1,0,0]]\n",
    "print(MatrixScore(matrix))\n",
    "print(matrix)"
   ]
  },
  {
   "cell_type": "code",
   "execution_count": 23,
   "id": "89477dc3",
   "metadata": {},
   "outputs": [
    {
     "name": "stdout",
     "output_type": "stream",
     "text": [
      "True\n"
     ]
    }
   ],
   "source": [
    "## Search in a 2D Matrix\n",
    "def SearchMatrix(matrix,target):\n",
    "    row = len(matrix)\n",
    "    col = len(matrix[0])\n",
    "    i,j = 0,col-1\n",
    "    while i<=row-1 and j>=0:\n",
    "        if matrix[i][j]==target:\n",
    "            return True\n",
    "        if matrix[i][j]>target:\n",
    "            j-=1\n",
    "        else:\n",
    "            i+=1\n",
    "    return False\n",
    "matrix = [[1,4,7,11,15],[2,5,8,12,19],[3,6,9,16,22],[10,13,14,17,24],[18,21,23,26,30]]\n",
    "target = 13\n",
    "print(SearchMatrix(matrix,target))"
   ]
  }
 ],
 "metadata": {
  "kernelspec": {
   "display_name": "Python 3",
   "language": "python",
   "name": "python3"
  },
  "language_info": {
   "codemirror_mode": {
    "name": "ipython",
    "version": 3
   },
   "file_extension": ".py",
   "mimetype": "text/x-python",
   "name": "python",
   "nbconvert_exporter": "python",
   "pygments_lexer": "ipython3",
   "version": "3.13.5"
  }
 },
 "nbformat": 4,
 "nbformat_minor": 5
}
