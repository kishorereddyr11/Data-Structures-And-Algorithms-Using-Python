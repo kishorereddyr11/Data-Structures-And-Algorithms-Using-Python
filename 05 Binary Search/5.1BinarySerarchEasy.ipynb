{
 "cells": [
  {
   "cell_type": "markdown",
   "id": "2631c9de",
   "metadata": {},
   "source": [
    "### Binary Search "
   ]
  },
  {
   "cell_type": "code",
   "execution_count": null,
   "id": "66d98e8a",
   "metadata": {},
   "outputs": [
    {
     "name": "stdout",
     "output_type": "stream",
     "text": [
      "4\n"
     ]
    }
   ],
   "source": [
    "## Normal Binary Search\n",
    "def Search(lst, target):\n",
    "    n = len(lst)\n",
    "    lo = 0\n",
    "    hi = n - 1\n",
    "    while lo <= hi:\n",
    "        mid = lo + (hi - lo)//2\n",
    "        if lst[mid] == target:\n",
    "            return mid\n",
    "        elif lst[mid] > target:\n",
    "            hi = mid - 1\n",
    "        else :\n",
    "            lo = mid + 1\n",
    "    return -1\n",
    "if __name__=='__main__':\n",
    "    lst = [-1,0,3,5,9,12]\n",
    "    target = 9\n",
    "    print(Search(lst, target))"
   ]
  },
  {
   "cell_type": "markdown",
   "id": "5377b87e",
   "metadata": {},
   "source": [
    "#### 1. Find Lower Bound of an Element"
   ]
  },
  {
   "cell_type": "code",
   "execution_count": 18,
   "id": "19af5fdb",
   "metadata": {},
   "outputs": [
    {
     "name": "stdout",
     "output_type": "stream",
     "text": [
      "The lower bound is the index: 3\n"
     ]
    }
   ],
   "source": [
    "def lowerBound(arr: [int], n: int, x: int) -> int:\n",
    "    low = 0\n",
    "    high = n - 1\n",
    "    ans = n\n",
    "\n",
    "    while low <= high:\n",
    "        mid = (low + high) // 2\n",
    "        # maybe an answer\n",
    "        if arr[mid] >= x:\n",
    "            ans = mid\n",
    "            # look for smaller index on the left\n",
    "            high = mid - 1\n",
    "        else:\n",
    "            low = mid + 1  # look on the right\n",
    "\n",
    "    return ans\n",
    "\n",
    "if __name__ == \"__main__\":\n",
    "    arr = [3, 5, 8, 15, 19]\n",
    "    n = 5\n",
    "    x = 9\n",
    "    ind = lowerBound(arr, n, x)\n",
    "    print(\"The lower bound is the index:\", ind)"
   ]
  },
  {
   "cell_type": "markdown",
   "id": "a89b388c",
   "metadata": {},
   "source": [
    "#### 2. Upper Bound Of An Element"
   ]
  },
  {
   "cell_type": "code",
   "execution_count": 19,
   "id": "894a89ec",
   "metadata": {},
   "outputs": [
    {
     "name": "stdout",
     "output_type": "stream",
     "text": [
      "The upper bound is the index: 4\n"
     ]
    }
   ],
   "source": [
    "def upperBound(arr: [int], x: int, n: int) -> int:\n",
    "    low = 0\n",
    "    high = n - 1\n",
    "    ans = n\n",
    "\n",
    "    while low <= high:\n",
    "        mid = (low + high) // 2\n",
    "        # maybe an answer\n",
    "        if arr[mid] > x:\n",
    "            ans = mid\n",
    "            # look for smaller index on the left\n",
    "            high = mid - 1\n",
    "        else:\n",
    "            low = mid + 1  # look on the right\n",
    "\n",
    "    return ans\n",
    "\n",
    "if __name__ == \"__main__\":\n",
    "    arr = [3, 5, 8, 9, 15, 19]\n",
    "    n = 6\n",
    "    x = 9\n",
    "    ind = upperBound(arr, x, n)\n",
    "    print(\"The upper bound is the index:\", ind)"
   ]
  },
  {
   "cell_type": "markdown",
   "id": "c434d141",
   "metadata": {},
   "source": [
    "#### 3. Search Insert Position"
   ]
  },
  {
   "cell_type": "code",
   "execution_count": 21,
   "id": "edc97b26",
   "metadata": {},
   "outputs": [
    {
     "name": "stdout",
     "output_type": "stream",
     "text": [
      "3\n"
     ]
    }
   ],
   "source": [
    "## Find Insert Position of an Element\n",
    "def FindPosition(nums, target):\n",
    "    n = len(nums)\n",
    "    lo = 0\n",
    "    hi = n - 1\n",
    "    while lo <= hi:\n",
    "        mid = lo + (hi - lo)//2\n",
    "        if nums[mid] == target:\n",
    "            return mid\n",
    "        elif nums[mid] > target:\n",
    "            hi = mid - 1\n",
    "        else :\n",
    "            lo = mid + 1\n",
    "    return lo\n",
    "if __name__=='__main__':\n",
    "    lst = [-1,0,3,5,9,12]\n",
    "    target = 4\n",
    "    print(FindPosition(lst, target))"
   ]
  }
 ],
 "metadata": {
  "kernelspec": {
   "display_name": "Python 3",
   "language": "python",
   "name": "python3"
  },
  "language_info": {
   "codemirror_mode": {
    "name": "ipython",
    "version": 3
   },
   "file_extension": ".py",
   "mimetype": "text/x-python",
   "name": "python",
   "nbconvert_exporter": "python",
   "pygments_lexer": "ipython3",
   "version": "3.13.5"
  }
 },
 "nbformat": 4,
 "nbformat_minor": 5
}
