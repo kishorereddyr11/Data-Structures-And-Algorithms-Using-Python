{
  "nbformat": 4,
  "nbformat_minor": 0,
  "metadata": {
    "colab": {
      "provenance": [],
      "authorship_tag": "ABX9TyOht7rzhgV9KHQMKSf+iCAQ",
      "include_colab_link": true
    },
    "kernelspec": {
      "name": "python3",
      "display_name": "Python 3"
    },
    "language_info": {
      "name": "python"
    }
  },
  "cells": [
    {
      "cell_type": "markdown",
      "metadata": {
        "id": "view-in-github",
        "colab_type": "text"
      },
      "source": [
        "<a href=\"https://colab.research.google.com/github/kishorereddyr11/Data-Structures-And-Algorithms-Using-Python/blob/master/Task1.ipynb\" target=\"_parent\"><img src=\"https://colab.research.google.com/assets/colab-badge.svg\" alt=\"Open In Colab\"/></a>"
      ]
    },
    {
      "cell_type": "code",
      "execution_count": 65,
      "metadata": {
        "id": "LJai4HLkXFw9"
      },
      "outputs": [],
      "source": [
        "import pandas as pd\n",
        "import numpy as np"
      ]
    },
    {
      "cell_type": "code",
      "source": [
        "file = pd.read_csv('student_dataset.csv')"
      ],
      "metadata": {
        "id": "paXpfALuXoaK"
      },
      "execution_count": 66,
      "outputs": []
    },
    {
      "cell_type": "code",
      "source": [
        "print(file.head()) # First 5 rows in data set will we printed"
      ],
      "metadata": {
        "colab": {
          "base_uri": "https://localhost:8080/"
        },
        "id": "LOzEvDuAX2Ub",
        "outputId": "91fb1de7-a5f4-45ad-ed74-35fdebd409bd"
      },
      "execution_count": 67,
      "outputs": [
        {
          "output_type": "stream",
          "name": "stdout",
          "text": [
            "       Student_Names   Phone_No.  Math  Physics  Chemistry Grade  \\\n",
            "0   Donald Contreras  9208625450  76.0     84.0         54    B+   \n",
            "1      Joseph Horton  9886408555  91.0     75.0         78     A   \n",
            "2  Savannah Burns MD  9047592659  64.0     98.0         20     C   \n",
            "3     William Carter  9048473864  15.0     95.0         32     D   \n",
            "4     John Rodriguez  9685225730  86.0     86.0         66    B+   \n",
            "\n",
            "                    Comment  Roll No.           School Name  \\\n",
            "0            Good Pursuance    524613  Martin Luther School   \n",
            "1      Very Good Achivement    561635  Martin Luther School   \n",
            "2  Below Average Achivement    560985  Martin Luther School   \n",
            "3            Poor Pursuance    535126  Martin Luther School   \n",
            "4            Good Pursuance    559410  Martin Luther School   \n",
            "\n",
            "                                     Student Address  \n",
            "0             478 Mooney Park, New Valerie, VI 28836  \n",
            "1            037 Matthew Shores, Greeneton, CA 98399  \n",
            "2         96124 Lloyd Streets, Edwardmouth, DC 61677  \n",
            "3            11959 Clark Village, Ivanview, NH 43940  \n",
            "4  051 Weaver Glen Apt. 724, West Davidborough, M...  \n"
          ]
        }
      ]
    },
    {
      "cell_type": "code",
      "source": [
        "print(file) ## by printing file it will display whole file"
      ],
      "metadata": {
        "colab": {
          "base_uri": "https://localhost:8080/"
        },
        "id": "HF8qtd3fX4pj",
        "outputId": "132f55c6-cbb0-4372-dfb2-c4b760cc6bfa"
      },
      "execution_count": 68,
      "outputs": [
        {
          "output_type": "stream",
          "name": "stdout",
          "text": [
            "          Student_Names   Phone_No.  Math  Physics  Chemistry Grade  \\\n",
            "0      Donald Contreras  9208625450  76.0     84.0         54    B+   \n",
            "1         Joseph Horton  9886408555  91.0     75.0         78     A   \n",
            "2     Savannah Burns MD  9047592659  64.0     98.0         20     C   \n",
            "3        William Carter  9048473864  15.0     95.0         32     D   \n",
            "4        John Rodriguez  9685225730  86.0     86.0         66    B+   \n",
            "...                 ...         ...   ...      ...        ...   ...   \n",
            "8995   Kimberly Stevens  9129352703  40.0     87.0         65     B   \n",
            "8996     Kelsey Bonilla  9649715711  56.0     84.0         75    B+   \n",
            "8997         Kelly Dunn  9825362271  80.0     70.0         16     C   \n",
            "8998     Joseph Nichols  9363540473  24.0     95.0         59     C   \n",
            "8999    Susan Armstrong  9879539785  31.0     76.0         18     D   \n",
            "\n",
            "                       Comment  Roll No.           School Name  \\\n",
            "0               Good Pursuance    524613  Martin Luther School   \n",
            "1         Very Good Achivement    561635  Martin Luther School   \n",
            "2     Below Average Achivement    560985  Martin Luther School   \n",
            "3               Poor Pursuance    535126  Martin Luther School   \n",
            "4               Good Pursuance    559410  Martin Luther School   \n",
            "...                        ...       ...                   ...   \n",
            "8995       Average Performance    569342  Martin Luther School   \n",
            "8996            Good Pursuance    530124  Martin Luther School   \n",
            "8997  Below Average Achivement    592266  Martin Luther School   \n",
            "8998  Below Average Achivement    583028  Martin Luther School   \n",
            "8999            Poor Pursuance    503637  Martin Luther School   \n",
            "\n",
            "                                        Student Address  \n",
            "0                478 Mooney Park, New Valerie, VI 28836  \n",
            "1               037 Matthew Shores, Greeneton, CA 98399  \n",
            "2            96124 Lloyd Streets, Edwardmouth, DC 61677  \n",
            "3               11959 Clark Village, Ivanview, NH 43940  \n",
            "4     051 Weaver Glen Apt. 724, West Davidborough, M...  \n",
            "...                                                 ...  \n",
            "8995          27054 Adrian Streets, Diazmouth, OH 81346  \n",
            "8996        570 Christopher Run, Williammouth, ND 11535  \n",
            "8997   32283 Carpenter Summit, North Patricia, PR 51483  \n",
            "8998  2336 Blackburn Fall Apt. 905, South Shelby, ND...  \n",
            "8999      2328 Jennifer Extension, Lake David, OR 11243  \n",
            "\n",
            "[9000 rows x 10 columns]\n"
          ]
        }
      ]
    },
    {
      "cell_type": "code",
      "source": [
        "print(file.isnull()) # it displays for each and every entitys weather the value is null or not"
      ],
      "metadata": {
        "colab": {
          "base_uri": "https://localhost:8080/"
        },
        "id": "7EO-rkBoYkPi",
        "outputId": "bc59008f-95f4-42ce-8db3-56796c190658"
      },
      "execution_count": 69,
      "outputs": [
        {
          "output_type": "stream",
          "name": "stdout",
          "text": [
            "      Student_Names  Phone_No.   Math  Physics  Chemistry  Grade  Comment  \\\n",
            "0             False      False  False    False      False  False    False   \n",
            "1             False      False  False    False      False  False    False   \n",
            "2             False      False  False    False      False  False    False   \n",
            "3             False      False  False    False      False  False    False   \n",
            "4             False      False  False    False      False  False    False   \n",
            "...             ...        ...    ...      ...        ...    ...      ...   \n",
            "8995          False      False  False    False      False  False    False   \n",
            "8996          False      False  False    False      False  False    False   \n",
            "8997          False      False  False    False      False  False    False   \n",
            "8998          False      False  False    False      False  False    False   \n",
            "8999          False      False  False    False      False  False    False   \n",
            "\n",
            "      Roll No.  School Name  Student Address  \n",
            "0        False        False            False  \n",
            "1        False        False            False  \n",
            "2        False        False            False  \n",
            "3        False        False            False  \n",
            "4        False        False            False  \n",
            "...        ...          ...              ...  \n",
            "8995     False        False            False  \n",
            "8996     False        False            False  \n",
            "8997     False        False            False  \n",
            "8998     False        False            False  \n",
            "8999     False        False            False  \n",
            "\n",
            "[9000 rows x 10 columns]\n"
          ]
        }
      ]
    },
    {
      "cell_type": "code",
      "source": [
        "print(file.isnull().sum()) ## after adding sum -> it will display no of null values for each and every object"
      ],
      "metadata": {
        "colab": {
          "base_uri": "https://localhost:8080/"
        },
        "id": "KSQzCOcwZWw7",
        "outputId": "4e2e0e26-fd2b-4af7-8468-f5eccc04b7c3"
      },
      "execution_count": 70,
      "outputs": [
        {
          "output_type": "stream",
          "name": "stdout",
          "text": [
            "Student_Names      0\n",
            "Phone_No.          0\n",
            "Math               3\n",
            "Physics            3\n",
            "Chemistry          0\n",
            "Grade              0\n",
            "Comment            0\n",
            "Roll No.           0\n",
            "School Name        0\n",
            "Student Address    0\n",
            "dtype: int64\n"
          ]
        }
      ]
    },
    {
      "cell_type": "code",
      "source": [
        "file['Math'] = file['Math'].fillna(file['Math'].mean())  ## Remove all Null values in the maths object by using fillna function replace null by mean of all marks of maths"
      ],
      "metadata": {
        "id": "ifRx-WRRbphy"
      },
      "execution_count": 71,
      "outputs": []
    },
    {
      "cell_type": "code",
      "source": [
        "file['Physics'] = file['Physics'].fillna(file['Physics'].mean())  ## Remove all Null values in the physics object by using fillna function replace null by mean of all marks of physics"
      ],
      "metadata": {
        "id": "4n8eSuVecEJa"
      },
      "execution_count": 72,
      "outputs": []
    },
    {
      "cell_type": "code",
      "source": [
        "print(file.isnull().sum())"
      ],
      "metadata": {
        "colab": {
          "base_uri": "https://localhost:8080/"
        },
        "id": "5IQ3satBcOAi",
        "outputId": "b1f23d44-24ae-48b2-8300-7188abe223bf"
      },
      "execution_count": 73,
      "outputs": [
        {
          "output_type": "stream",
          "name": "stdout",
          "text": [
            "Student_Names      0\n",
            "Phone_No.          0\n",
            "Math               0\n",
            "Physics            0\n",
            "Chemistry          0\n",
            "Grade              0\n",
            "Comment            0\n",
            "Roll No.           0\n",
            "School Name        0\n",
            "Student Address    0\n",
            "dtype: int64\n"
          ]
        }
      ]
    },
    {
      "cell_type": "code",
      "source": [
        "file['Total_Score'] = file['Math']+file['Physics']+file['Chemistry']\n",
        "print(file['Total_Score'])"
      ],
      "metadata": {
        "colab": {
          "base_uri": "https://localhost:8080/"
        },
        "id": "yYzrQsDtdc4D",
        "outputId": "ce5bb10c-f91c-49c1-ec9f-83fcda0a0272"
      },
      "execution_count": 74,
      "outputs": [
        {
          "output_type": "stream",
          "name": "stdout",
          "text": [
            "0       214.0\n",
            "1       244.0\n",
            "2       182.0\n",
            "3       142.0\n",
            "4       238.0\n",
            "        ...  \n",
            "8995    192.0\n",
            "8996    215.0\n",
            "8997    166.0\n",
            "8998    178.0\n",
            "8999    125.0\n",
            "Name: Total_Score, Length: 9000, dtype: float64\n"
          ]
        }
      ]
    },
    {
      "cell_type": "code",
      "source": [
        "print(\"Final prepared Dataset\")\n",
        "print(file)"
      ],
      "metadata": {
        "colab": {
          "base_uri": "https://localhost:8080/"
        },
        "id": "Rv6QKL_LeL8i",
        "outputId": "fef62775-70eb-4343-aea7-f3d0886d2d22"
      },
      "execution_count": 75,
      "outputs": [
        {
          "output_type": "stream",
          "name": "stdout",
          "text": [
            "Final prepared Dataset\n",
            "          Student_Names   Phone_No.  Math  Physics  Chemistry Grade  \\\n",
            "0      Donald Contreras  9208625450  76.0     84.0         54    B+   \n",
            "1         Joseph Horton  9886408555  91.0     75.0         78     A   \n",
            "2     Savannah Burns MD  9047592659  64.0     98.0         20     C   \n",
            "3        William Carter  9048473864  15.0     95.0         32     D   \n",
            "4        John Rodriguez  9685225730  86.0     86.0         66    B+   \n",
            "...                 ...         ...   ...      ...        ...   ...   \n",
            "8995   Kimberly Stevens  9129352703  40.0     87.0         65     B   \n",
            "8996     Kelsey Bonilla  9649715711  56.0     84.0         75    B+   \n",
            "8997         Kelly Dunn  9825362271  80.0     70.0         16     C   \n",
            "8998     Joseph Nichols  9363540473  24.0     95.0         59     C   \n",
            "8999    Susan Armstrong  9879539785  31.0     76.0         18     D   \n",
            "\n",
            "                       Comment  Roll No.           School Name  \\\n",
            "0               Good Pursuance    524613  Martin Luther School   \n",
            "1         Very Good Achivement    561635  Martin Luther School   \n",
            "2     Below Average Achivement    560985  Martin Luther School   \n",
            "3               Poor Pursuance    535126  Martin Luther School   \n",
            "4               Good Pursuance    559410  Martin Luther School   \n",
            "...                        ...       ...                   ...   \n",
            "8995       Average Performance    569342  Martin Luther School   \n",
            "8996            Good Pursuance    530124  Martin Luther School   \n",
            "8997  Below Average Achivement    592266  Martin Luther School   \n",
            "8998  Below Average Achivement    583028  Martin Luther School   \n",
            "8999            Poor Pursuance    503637  Martin Luther School   \n",
            "\n",
            "                                        Student Address  Total_Score  \n",
            "0                478 Mooney Park, New Valerie, VI 28836        214.0  \n",
            "1               037 Matthew Shores, Greeneton, CA 98399        244.0  \n",
            "2            96124 Lloyd Streets, Edwardmouth, DC 61677        182.0  \n",
            "3               11959 Clark Village, Ivanview, NH 43940        142.0  \n",
            "4     051 Weaver Glen Apt. 724, West Davidborough, M...        238.0  \n",
            "...                                                 ...          ...  \n",
            "8995          27054 Adrian Streets, Diazmouth, OH 81346        192.0  \n",
            "8996        570 Christopher Run, Williammouth, ND 11535        215.0  \n",
            "8997   32283 Carpenter Summit, North Patricia, PR 51483        166.0  \n",
            "8998  2336 Blackburn Fall Apt. 905, South Shelby, ND...        178.0  \n",
            "8999      2328 Jennifer Extension, Lake David, OR 11243        125.0  \n",
            "\n",
            "[9000 rows x 11 columns]\n"
          ]
        }
      ]
    }
  ]
}