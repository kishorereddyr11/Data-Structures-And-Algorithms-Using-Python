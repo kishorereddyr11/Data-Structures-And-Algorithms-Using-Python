{
 "cells": [
  {
   "cell_type": "markdown",
   "id": "8852577c",
   "metadata": {},
   "source": [
    "### Strings\n",
    "1. Count Vowels\n",
    "2. Update single char string\n",
    "3. Count Char with Different neighbour\n",
    "4. Is Anagram [Leet Code 242]\n",
    "5. Most Occurring Character\n",
    "6. Most Occurring Word\n",
    "7. Maximum Value String\n",
    "8. Longest Common Prefix [Leet Code 14]"
   ]
  },
  {
   "cell_type": "code",
   "execution_count": 1,
   "id": "cde850a1",
   "metadata": {},
   "outputs": [
    {
     "name": "stdout",
     "output_type": "stream",
     "text": [
      "3\n"
     ]
    }
   ],
   "source": [
    "## Count Vowels\n",
    "str = \"Kishore\"\n",
    "count = 0\n",
    "for s in str:\n",
    "    s = s.lower()\n",
    "    if s == 'a' or s == 'e' or s == 'i' or s == 'o' or s == 'u':\n",
    "        count +=1\n",
    "print(count)\n"
   ]
  },
  {
   "cell_type": "code",
   "execution_count": 4,
   "id": "9f2570f5",
   "metadata": {},
   "outputs": [
    {
     "ename": "TypeError",
     "evalue": "'str' object does not support item assignment",
     "output_type": "error",
     "traceback": [
      "\u001b[31m---------------------------------------------------------------------------\u001b[39m",
      "\u001b[31mTypeError\u001b[39m                                 Traceback (most recent call last)",
      "\u001b[36mCell\u001b[39m\u001b[36m \u001b[39m\u001b[32mIn[4]\u001b[39m\u001b[32m, line 3\u001b[39m\n\u001b[32m      1\u001b[39m \u001b[38;5;66;03m## Update single char in String \u001b[39;00m\n\u001b[32m      2\u001b[39m \u001b[38;5;28mstr\u001b[39m = \u001b[33m\"\u001b[39m\u001b[33mKishore\u001b[39m\u001b[33m\"\u001b[39m\n\u001b[32m----> \u001b[39m\u001b[32m3\u001b[39m \u001b[38;5;28;43mstr\u001b[39;49m\u001b[43m[\u001b[49m\u001b[32;43m1\u001b[39;49m\u001b[43m]\u001b[49m = \u001b[33m'\u001b[39m\u001b[33me\u001b[39m\u001b[33m'\u001b[39m\n\u001b[32m      4\u001b[39m \u001b[38;5;28mprint\u001b[39m(\u001b[38;5;28mstr\u001b[39m)\n\u001b[32m      5\u001b[39m \u001b[38;5;66;03m## String are immutable in python gets error\u001b[39;00m\n",
      "\u001b[31mTypeError\u001b[39m: 'str' object does not support item assignment"
     ]
    }
   ],
   "source": [
    "## Update single char in String \n",
    "str = \"Kishore\"\n",
    "str[1] = 'e'\n",
    "print(str)\n",
    "## String are immutable in python gets error"
   ]
  },
  {
   "cell_type": "code",
   "execution_count": 7,
   "id": "234e51ff",
   "metadata": {},
   "outputs": [
    {
     "name": "stdout",
     "output_type": "stream",
     "text": [
      "5\n"
     ]
    }
   ],
   "source": [
    "## Count Char with Different neighbours \n",
    "str = \"abbcdeffghh\"\n",
    "n = len(str)\n",
    "count= 0\n",
    "for i in range(n):\n",
    "    if n==1:\n",
    "        count = 0\n",
    "        break\n",
    "    elif n==2:\n",
    "        if str[0]!=str[1]:\n",
    "            count = 1\n",
    "            break\n",
    "    if i == 0:\n",
    "        if str[0]!=str[1]:\n",
    "            count+=1\n",
    "    elif i == n-1:\n",
    "        if str[i]!=str[i-1]:\n",
    "            count+=1\n",
    "    elif str[i]!=str[i+1] and str[i]!=str[i-1]:\n",
    "        count+=1\n",
    "print(count)"
   ]
  },
  {
   "cell_type": "code",
   "execution_count": 10,
   "id": "85277a68",
   "metadata": {},
   "outputs": [
    {
     "name": "stdout",
     "output_type": "stream",
     "text": [
      "True\n"
     ]
    }
   ],
   "source": [
    "## is anagram\n",
    "from collections import defaultdict\n",
    "def is_anagram(s,t):\n",
    "    if len(s)!=len(t):\n",
    "        return False\n",
    "    countS = defaultdict(int)\n",
    "    countT = defaultdict(int)\n",
    "    for i in range(len(s)):\n",
    "        countS[s[i]]+=1\n",
    "        countT[t[i]]+=1\n",
    "    return countS==countT\n",
    "str1 = \"anagram\"\n",
    "str2 = \"nagaram\"\n",
    "print(is_anagram(str1,str2))"
   ]
  },
  {
   "cell_type": "code",
   "execution_count": 11,
   "id": "187470ef",
   "metadata": {},
   "outputs": [
    {
     "name": "stdout",
     "output_type": "stream",
     "text": [
      "True\n"
     ]
    }
   ],
   "source": [
    "## is anagram Using sorting\n",
    "def is_anagram(s,t):\n",
    "    return sorted(s)==sorted(t)\n",
    "str1 = \"anagram\"\n",
    "str2 = \"nagaram\"\n",
    "print(is_anagram(str1,str2))"
   ]
  },
  {
   "cell_type": "code",
   "execution_count": 18,
   "id": "6480fcae",
   "metadata": {},
   "outputs": [
    {
     "name": "stdout",
     "output_type": "stream",
     "text": [
      "e\n"
     ]
    }
   ],
   "source": [
    "## Most Occurring Character\n",
    "from collections import defaultdict\n",
    "def Most(str):\n",
    "    count = defaultdict(int)\n",
    "    for s in str:\n",
    "        count[s]+=1\n",
    "    max = -1\n",
    "    ans = \"\"\n",
    "    for key,value in count.items():\n",
    "        if value >= max :\n",
    "            max = value\n",
    "            ans = key\n",
    "    return ans\n",
    "str = \"leetcode\"\n",
    "ans = Most(str)\n",
    "print(ans)"
   ]
  },
  {
   "cell_type": "code",
   "execution_count": 19,
   "id": "3b7f5d80",
   "metadata": {},
   "outputs": [
    {
     "name": "stdout",
     "output_type": "stream",
     "text": [
      "vel\n"
     ]
    }
   ],
   "source": [
    "## Most Occurring Word in a string\n",
    "from collections import defaultdict\n",
    "def Most(str):\n",
    "    lst = str.split()\n",
    "    count = defaultdict(int)\n",
    "    for word in lst:\n",
    "        count[word]+=1\n",
    "    max = -1\n",
    "    ans = \"\"\n",
    "    for key,value in count.items():\n",
    "        if value >= max :\n",
    "            max = value\n",
    "            ans = key\n",
    "    return ans\n",
    "str = \"vel tech is located in vel nagar\"\n",
    "print(Most(str))"
   ]
  },
  {
   "cell_type": "code",
   "execution_count": 21,
   "id": "7d665408",
   "metadata": {},
   "outputs": [
    {
     "name": "stdout",
     "output_type": "stream",
     "text": [
      "921\n"
     ]
    }
   ],
   "source": [
    "## Maximum Value String\n",
    "lst = [\"0123\",\"023\",\"456\",\"0018\",\"900\",\"00921\"]\n",
    "max = float('-inf')\n",
    "for i in range(len(lst)):\n",
    "    num = int(lst[i])\n",
    "    if num >max:\n",
    "        max = num\n",
    "print(max)"
   ]
  },
  {
   "cell_type": "code",
   "execution_count": 22,
   "id": "e24ec0fd",
   "metadata": {},
   "outputs": [
    {
     "name": "stdout",
     "output_type": "stream",
     "text": [
      "fl\n"
     ]
    }
   ],
   "source": [
    "def CommonPrefix(lst):\n",
    "    n = len(lst)\n",
    "    lst.sort()\n",
    "    str1 = lst[0]\n",
    "    str2 = lst[n-1]\n",
    "    ans = \"\"\n",
    "    for i in range(min(len(str1),len(str2))):\n",
    "        if str1[i]==str2[i]:\n",
    "            ans+=str1[i]\n",
    "    return ans\n",
    "lst = [\"flower\",\"flow\",\"flight\"]\n",
    "print(CommonPrefix(lst))"
   ]
  }
 ],
 "metadata": {
  "kernelspec": {
   "display_name": "Python 3",
   "language": "python",
   "name": "python3"
  },
  "language_info": {
   "codemirror_mode": {
    "name": "ipython",
    "version": 3
   },
   "file_extension": ".py",
   "mimetype": "text/x-python",
   "name": "python",
   "nbconvert_exporter": "python",
   "pygments_lexer": "ipython3",
   "version": "3.13.5"
  }
 },
 "nbformat": 4,
 "nbformat_minor": 5
}
