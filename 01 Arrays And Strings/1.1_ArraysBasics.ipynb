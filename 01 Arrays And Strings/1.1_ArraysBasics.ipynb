{
 "cells": [
  {
   "cell_type": "markdown",
   "id": "c23beb69",
   "metadata": {},
   "source": [
    "### Arrays Basics\n",
    "1. Find maximum value in array\n",
    "2. 2nd maximum value in array\n",
    "3. Last Index of a number\n",
    "4. Two sum [Leet code 1]\n",
    "5. Rotate By K Parts [Leet Code 189]\n",
    "6. Reverse Integer [Leet code 7]\n",
    "7. Move All Zeros to End of the Array"
   ]
  },
  {
   "cell_type": "code",
   "execution_count": 1,
   "id": "f1373000",
   "metadata": {},
   "outputs": [
    {
     "name": "stdout",
     "output_type": "stream",
     "text": [
      "[1, 2, 3, 4, 5]\n"
     ]
    }
   ],
   "source": [
    "## Taking Array Input\n",
    "arr = []\n",
    "n = int(input(\"Enter the size of array\"))\n",
    "for i in range(n):\n",
    "    arr.append(int(input()))\n",
    "print(arr)"
   ]
  },
  {
   "cell_type": "code",
   "execution_count": 3,
   "id": "928304dc",
   "metadata": {},
   "outputs": [
    {
     "name": "stdout",
     "output_type": "stream",
     "text": [
      "[1, 2, 3, 4, 5, 6, 7, 8, 9]\n"
     ]
    }
   ],
   "source": [
    "## Taking Array Input Without size\n",
    "arr = list(map(int,input().split()))\n",
    "print(arr)"
   ]
  },
  {
   "cell_type": "code",
   "execution_count": null,
   "id": "c3e5c649",
   "metadata": {},
   "outputs": [
    {
     "name": "stdout",
     "output_type": "stream",
     "text": [
      "6\n"
     ]
    }
   ],
   "source": [
    "## Find First Maximum in array\n",
    "def FindMax(arr):\n",
    "    max = float('-inf') # this is negetive infinite\n",
    "    for i in range(len(arr)):\n",
    "        if arr[i]>max:\n",
    "            max = arr[i]\n",
    "    return max \n",
    "\n",
    "arr = [1,5,2,6,3]\n",
    "print(FindMax(arr))"
   ]
  },
  {
   "cell_type": "code",
   "execution_count": 4,
   "id": "42b766cc",
   "metadata": {},
   "outputs": [
    {
     "name": "stdout",
     "output_type": "stream",
     "text": [
      "5\n"
     ]
    }
   ],
   "source": [
    "## Find Second Maximum in array\n",
    "def SecondMax(arr):\n",
    "    max1 = float('-inf')\n",
    "    for i in range(len(arr)):\n",
    "        if arr[i]>max1 :\n",
    "            max1 = arr[i]\n",
    "    \n",
    "    max2 = float('-inf')\n",
    "    for i in range(len(arr)):\n",
    "        if arr[i]!=max1 and arr[i]>max2 :\n",
    "            max2 = arr[i]\n",
    "    return max2\n",
    "arr = [1,5,2,6,3]\n",
    "print(SecondMax(arr))\n"
   ]
  },
  {
   "cell_type": "code",
   "execution_count": null,
   "id": "20b2ec79",
   "metadata": {},
   "outputs": [
    {
     "name": "stdout",
     "output_type": "stream",
     "text": [
      "5\n"
     ]
    }
   ],
   "source": [
    "## Last Index of a number in an array\n",
    "def LastIndex(arr,target):\n",
    "    for i in range(len(arr)-1,-1,-1): # traversing list from end\n",
    "        if arr[i]==target:\n",
    "            return i\n",
    "arr = [1,2,3,1,2,1,5]\n",
    "print(LastIndex(arr,1))"
   ]
  },
  {
   "cell_type": "code",
   "execution_count": 7,
   "id": "d5de1f0f",
   "metadata": {},
   "outputs": [
    {
     "name": "stdout",
     "output_type": "stream",
     "text": [
      "(1,8)\n",
      "(2,7)\n",
      "(3,6)\n",
      "(4,5)\n"
     ]
    }
   ],
   "source": [
    "## Two Sum \n",
    "def TwoSum(arr,target):\n",
    "    for i in range(len(arr)):\n",
    "        for j in range(i+1,len(arr)):\n",
    "            if arr[i]+arr[j]==target:\n",
    "                print(f\"({arr[i]},{arr[j]})\")\n",
    "arr = [1,2,3,4,5,6,7,8,9]\n",
    "TwoSum(arr,9)"
   ]
  },
  {
   "cell_type": "code",
   "execution_count": 12,
   "id": "8ab1cda8",
   "metadata": {},
   "outputs": [
    {
     "name": "stdout",
     "output_type": "stream",
     "text": [
      "[9, 8, 7, 6, 5, 4, 3, 2, 1]\n"
     ]
    }
   ],
   "source": [
    "## Reverse an array\n",
    "def Reverse(arr):\n",
    "     i=0\n",
    "     j=len(arr)-1\n",
    "     while i<j:\n",
    "          temp = arr[i]\n",
    "          arr[i] = arr[j]\n",
    "          arr[j] = temp\n",
    "          i += 1\n",
    "          j -= 1\n",
    "arr = [1,2,3,4,5,6,7,8,9]\n",
    "Reverse(arr)\n",
    "print(arr)"
   ]
  },
  {
   "cell_type": "code",
   "execution_count": null,
   "id": "0c2e641d",
   "metadata": {},
   "outputs": [
    {
     "name": "stdout",
     "output_type": "stream",
     "text": [
      "[7, 8, 9, 1, 2, 3, 4, 5, 6]\n"
     ]
    }
   ],
   "source": [
    "## Rotate By K Parts\n",
    "def RotateByPart(arr,i,j):\n",
    "    while i<j:\n",
    "        temp = arr[i]\n",
    "        arr[i]=arr[j]\n",
    "        arr[j]=temp\n",
    "        i+=1\n",
    "        j-=1\n",
    "arr = [1,2,3,4,5,6,7,8,9] # k = 3 [7, 8, 9, 1, 2, 3, 4, 5, 6]\n",
    "k = 3\n",
    "k = k%len(arr)\n",
    "RotateByPart(arr,0,len(arr)-k-1)\n",
    "RotateByPart(arr,len(arr)-k,len(arr)-1)\n",
    "RotateByPart(arr,0,len(arr)-1)\n",
    "print(arr)"
   ]
  },
  {
   "cell_type": "code",
   "execution_count": 15,
   "id": "c34dedb4",
   "metadata": {},
   "outputs": [
    {
     "name": "stdout",
     "output_type": "stream",
     "text": [
      "4321\n"
     ]
    }
   ],
   "source": [
    "## Reverse Integer\n",
    "\n",
    "def Reverse(num):\n",
    "    rev = 0\n",
    "    sign = 1 if num>=0 else -1\n",
    "    num = abs(num)\n",
    "    while num!=0:\n",
    "        digit = num%10\n",
    "        rev = rev*10 + digit\n",
    "        num = num//10\n",
    "    rev = rev * sign\n",
    "    return rev\n",
    "\n",
    "num = 1234\n",
    "print(Reverse(num))"
   ]
  },
  {
   "cell_type": "code",
   "execution_count": 21,
   "id": "160a1d0a",
   "metadata": {},
   "outputs": [
    {
     "name": "stdout",
     "output_type": "stream",
     "text": [
      "[6, 7, 6, 9, 1, 0, 0, 0]\n"
     ]
    }
   ],
   "source": [
    "## Move All Zeros To the End of the Array\n",
    "def MoveZeros(arr):\n",
    "    j = 0\n",
    "    for i in range(len(arr)):\n",
    "        if arr[i]!=0 :\n",
    "            arr[j]=arr[i]\n",
    "            j += 1\n",
    "    for i in range(j,len(arr)):\n",
    "        arr[i]=0\n",
    "arr = [0,6,0,7,6,0,9,1]\n",
    "MoveZeros(arr)\n",
    "print(arr)"
   ]
  }
 ],
 "metadata": {
  "kernelspec": {
   "display_name": "Python 3",
   "language": "python",
   "name": "python3"
  },
  "language_info": {
   "codemirror_mode": {
    "name": "ipython",
    "version": 3
   },
   "file_extension": ".py",
   "mimetype": "text/x-python",
   "name": "python",
   "nbconvert_exporter": "python",
   "pygments_lexer": "ipython3",
   "version": "3.13.5"
  }
 },
 "nbformat": 4,
 "nbformat_minor": 5
}
