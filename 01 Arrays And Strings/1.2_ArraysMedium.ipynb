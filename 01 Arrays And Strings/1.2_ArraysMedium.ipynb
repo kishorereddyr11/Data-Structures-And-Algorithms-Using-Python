{
 "cells": [
  {
   "cell_type": "markdown",
   "id": "a72ef18c",
   "metadata": {},
   "source": [
    "### Arrays Medium Questions\n",
    "1. Sort 0's and 1's (Brute Force)\n",
    "2. Sort 0's and 1's (Two Pointers)\n",
    "3. Sort 0's, 1's and 2's (Brute Force)\n",
    "4. Sort 0's, 1's and 2's (Two Pointers) [Leet Code 75]\n",
    "5. Merge Two Sorted Arrays (Not In Place)\n",
    "6. Merge Two Sorted Arrays (In Place) [Leet Code 88]\n",
    "7. Next Permutation [Leet Code 31]\n",
    "8. Trapping Rain Water[Leet Code 42]"
   ]
  },
  {
   "cell_type": "code",
   "execution_count": null,
   "id": "17e835e0",
   "metadata": {},
   "outputs": [
    {
     "name": "stdout",
     "output_type": "stream",
     "text": [
      "[0, 0, 0, 0, 1, 1, 1, 1, 1, 1]\n"
     ]
    }
   ],
   "source": [
    "## Sort 0's and 1's Brute Force approach\n",
    "def Sort(arr):\n",
    "    noo = 0 # Number of Zeros\n",
    "    noz = 0 # Number of Ones\n",
    "    for i in range(len(arr)):\n",
    "        if arr[i]==1 :\n",
    "            noo+=1\n",
    "        else :\n",
    "            noz+=1\n",
    "    for i in range(len(arr)):\n",
    "        if i<noz:\n",
    "            arr[i]=0\n",
    "        else:\n",
    "            arr[i]=1\n",
    "\n",
    "arr = [0,1,1,0,1,0,1,1,0,1]\n",
    "Sort(arr)\n",
    "print(arr)"
   ]
  },
  {
   "cell_type": "code",
   "execution_count": 3,
   "id": "8768c62b",
   "metadata": {},
   "outputs": [
    {
     "name": "stdout",
     "output_type": "stream",
     "text": [
      "[0, 0, 0, 0, 1, 1, 1, 1, 1, 1]\n"
     ]
    }
   ],
   "source": [
    "## Sort 0's and 1's Two Pointers Approach\n",
    "def Sort(arr):\n",
    "    i=0\n",
    "    j=len(arr)-1\n",
    "    while i<j:\n",
    "        if arr[i]==0:\n",
    "            i+=1\n",
    "        elif arr[j]==1:\n",
    "            j-=1\n",
    "        elif arr[i]==1 and arr[j]==0:\n",
    "            arr[i]=0\n",
    "            arr[j]=1\n",
    "            i+=1\n",
    "            j-=1\n",
    "arr = [0,1,1,0,1,0,1,1,0,1]\n",
    "Sort(arr)\n",
    "print(arr)"
   ]
  },
  {
   "cell_type": "code",
   "execution_count": 5,
   "id": "1cc7eb2c",
   "metadata": {},
   "outputs": [
    {
     "name": "stdout",
     "output_type": "stream",
     "text": [
      "[0, 0, 0, 1, 1, 1, 2, 2]\n"
     ]
    }
   ],
   "source": [
    "## Sort 0's, 1's and 2's Brute Force Approach\n",
    "def Sort(arr):\n",
    "    noo = 0 # Number of Ones\n",
    "    noz = 0 # Number of Zeros\n",
    "    notw = 0 # Number of Twos\n",
    "    for i in range(len(arr)):\n",
    "        if arr[i]==0:\n",
    "            noz+=1\n",
    "        elif arr[i]==1:\n",
    "            noo+=1\n",
    "        else :\n",
    "            notw+=1\n",
    "    for i in range(len(arr)):\n",
    "        if i<noz:\n",
    "            arr[i]=0\n",
    "        elif i<noz+noo:\n",
    "            arr[i]=1\n",
    "        else:\n",
    "            arr[i]=2\n",
    "arr = [0,1,2,0,0,2,1,1]\n",
    "Sort(arr)\n",
    "print(arr)"
   ]
  },
  {
   "cell_type": "code",
   "execution_count": 9,
   "id": "98cbb923",
   "metadata": {},
   "outputs": [
    {
     "name": "stdout",
     "output_type": "stream",
     "text": [
      "[0, 0, 0, 1, 1, 1, 2, 2]\n"
     ]
    }
   ],
   "source": [
    "## Sort 0's, 1's and 2's Two Pointers Approach\n",
    "def Sort(arr):\n",
    "    low = 0\n",
    "    mid = 0\n",
    "    high = len(arr)-1\n",
    "    while mid<=high:\n",
    "        if arr[mid]==2:\n",
    "            arr[mid],arr[high] =arr[high],arr[mid]\n",
    "            high-=1\n",
    "        elif arr[mid]==0:\n",
    "            arr[mid],arr[low] = arr[low],arr[mid]\n",
    "            low +=1\n",
    "            mid+=1\n",
    "        elif arr[mid]==1 : mid+=1\n",
    "arr = [0,1,2,0,0,2,1,1]\n",
    "Sort(arr)\n",
    "print(arr)"
   ]
  },
  {
   "cell_type": "code",
   "execution_count": 11,
   "id": "8eaa324b",
   "metadata": {},
   "outputs": [
    {
     "name": "stdout",
     "output_type": "stream",
     "text": [
      "[1, 2, 3, 4, 5, 6, 7, 8, 9, 10]\n"
     ]
    }
   ],
   "source": [
    "## Merge Two Sorted Arrays Not inplace\n",
    "def Merge(arr1,arr2):\n",
    "    i=0\n",
    "    j=0\n",
    "    k=0\n",
    "    res = [0]*(len(arr1)+len(arr2))\n",
    "    while i<len(arr1) and j<len(arr2):\n",
    "        if arr1[i]<arr2[j]:\n",
    "            res[k]=arr1[i]\n",
    "            k+=1\n",
    "            i+=1\n",
    "        else:\n",
    "            res[k]=arr2[j]\n",
    "            k+=1\n",
    "            j+=1\n",
    "    if i>=len(arr1):\n",
    "        while j<len(arr2):\n",
    "            res[k]=arr2[j]\n",
    "            k+=1\n",
    "            j+=1\n",
    "    if j>=len(arr):\n",
    "        while i<len(arr1):\n",
    "            res[k]=arr1[i]\n",
    "            k+=1\n",
    "            i+=1\n",
    "    return res\n",
    "arr1 = [1,4,5,8,9]\n",
    "arr2 = [2,3,6,7,10]\n",
    "print(Merge(arr1,arr2))"
   ]
  },
  {
   "cell_type": "code",
   "execution_count": 14,
   "id": "261d63a5",
   "metadata": {},
   "outputs": [
    {
     "name": "stdout",
     "output_type": "stream",
     "text": [
      "[1, 2, 2, 3, 5, 6]\n"
     ]
    }
   ],
   "source": [
    "## Merge Two Sorted Arrays Not inplace\n",
    "def Merge(arr1,m,arr2,n):\n",
    "    i = m-n-1\n",
    "    j = n-1\n",
    "    k = m-1\n",
    "    while i>=0 and j>=0:\n",
    "        if arr1[i]<arr2[j]:\n",
    "            arr1[k]=arr2[j]\n",
    "            j-=1\n",
    "            k-=1\n",
    "        else :\n",
    "            arr1[k]=arr1[i]\n",
    "            k-=1\n",
    "            i-=1\n",
    "    while j>=0:\n",
    "        arr1[k]=arr2[j]\n",
    "        j-=1\n",
    "        k-=1\n",
    "    while i>=1:\n",
    "        arr1[k]=arr1[i]\n",
    "        i-=1\n",
    "        k-=1\n",
    "arr1 = [1,2,3,0,0,0]\n",
    "arr2 = [2,5,6]\n",
    "Merge(arr1,6,arr2,3)\n",
    "print(arr1)"
   ]
  },
  {
   "cell_type": "code",
   "execution_count": 8,
   "id": "ade72aa5",
   "metadata": {},
   "outputs": [
    {
     "name": "stdout",
     "output_type": "stream",
     "text": [
      "[2, 1, 3, 4]\n"
     ]
    }
   ],
   "source": [
    "## Next Permutation \n",
    "def ReverseByPart(arr,idx):\n",
    "    i = idx\n",
    "    j = len(arr)-1\n",
    "    while i<j:\n",
    "        temp = arr[i]\n",
    "        arr[i]=arr[j]\n",
    "        arr[j]=temp\n",
    "        i+=1\n",
    "        j-=1\n",
    "\n",
    "def NextPermutation(arr):\n",
    "    idx = -1\n",
    "    for i in range(len(arr)-2,-1,-1):\n",
    "        if arr[i]<arr[i+1]:\n",
    "            idx=i\n",
    "            break\n",
    "    if idx == -1:\n",
    "        arr.reverse()\n",
    "        return\n",
    "    ReverseByPart(arr,idx+1)\n",
    "    maxidx = -1\n",
    "    for i in range(idx+1,len(arr)):\n",
    "        if arr[idx]<arr[i]:\n",
    "            maxidx = i\n",
    "            break\n",
    "    arr[idx],arr[maxidx] = arr[maxidx],arr[idx]\n",
    "\n",
    "arr = [1,4,3,2]\n",
    "NextPermutation(arr)\n",
    "print(arr)"
   ]
  },
  {
   "cell_type": "code",
   "execution_count": 9,
   "id": "29b843d5",
   "metadata": {},
   "outputs": [
    {
     "name": "stdout",
     "output_type": "stream",
     "text": [
      "6\n"
     ]
    }
   ],
   "source": [
    "## Trapping Rain Water\n",
    "def Trap(height):\n",
    "    n = len(height)\n",
    "    pre = [0]*n\n",
    "    next = [0]*n\n",
    "    mini = [0]*n\n",
    "    \n",
    "    max = height[0]\n",
    "    pre[0] = -1\n",
    "    for i in range(1,n):\n",
    "        pre[i]=max\n",
    "        if max<height[i]:\n",
    "            max = height[i]\n",
    "    \n",
    "    max =  height[n-1]\n",
    "    next[n-1]=-1\n",
    "    for i in range(n-2,-1,-1):\n",
    "        next[i]=max\n",
    "        if max<height[i]:\n",
    "            max = height[i]\n",
    "\n",
    "    for i in range(n):\n",
    "        mini[i] = min(pre[i],next[i])\n",
    "    \n",
    "    water = 0\n",
    "    for i in  range(n):\n",
    "        if mini[i]>height[i]:\n",
    "            water+=(mini[i]-height[i])\n",
    "    return water\n",
    "height = [0,1,0,2,1,0,1,3,2,1,2,1]\n",
    "print(Trap(height))"
   ]
  }
 ],
 "metadata": {
  "kernelspec": {
   "display_name": "Python 3",
   "language": "python",
   "name": "python3"
  },
  "language_info": {
   "codemirror_mode": {
    "name": "ipython",
    "version": 3
   },
   "file_extension": ".py",
   "mimetype": "text/x-python",
   "name": "python",
   "nbconvert_exporter": "python",
   "pygments_lexer": "ipython3",
   "version": "3.13.5"
  }
 },
 "nbformat": 4,
 "nbformat_minor": 5
}
