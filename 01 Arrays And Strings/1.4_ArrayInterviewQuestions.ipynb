{
 "cells": [
  {
   "cell_type": "markdown",
   "id": "597b7a5f",
   "metadata": {},
   "source": [
    "### Arrays Interview Problems"
   ]
  },
  {
   "cell_type": "markdown",
   "id": "5f24bc7a",
   "metadata": {},
   "source": [
    "#### 1. Largest Element In an Array"
   ]
  },
  {
   "cell_type": "code",
   "execution_count": 3,
   "id": "0226147e",
   "metadata": {},
   "outputs": [
    {
     "name": "stdout",
     "output_type": "stream",
     "text": [
      "6\n"
     ]
    }
   ],
   "source": [
    "## Largest Element In an Array\n",
    "def largestElement(lst):\n",
    "    ## max = negetive infinity\n",
    "    max = float( '-inf' )\n",
    "    for i in range(len(lst)):\n",
    "        if lst[i] > max :\n",
    "            max = lst[i]\n",
    "    return max\n",
    "\n",
    "if __name__==\"__main__\":\n",
    "    lst = [3,3,6,1]\n",
    "    print(largestElement(lst))\n"
   ]
  },
  {
   "cell_type": "markdown",
   "id": "35d6dd3e",
   "metadata": {},
   "source": [
    "#### 2. Second Largest Element In an Array without Sorting"
   ]
  },
  {
   "cell_type": "code",
   "execution_count": 4,
   "id": "639e39e9",
   "metadata": {},
   "outputs": [
    {
     "name": "stdout",
     "output_type": "stream",
     "text": [
      "7\n"
     ]
    }
   ],
   "source": [
    "## Second Largest Element In an Array without Sorting\n",
    "def secondLargest(lst):\n",
    "    max1 = max(lst)\n",
    "    max2 = float( '-inf' )\n",
    "    for i in range(len(lst)):\n",
    "        if lst[i] != max1 and lst[i] > max2 :\n",
    "            max2 = lst[i]\n",
    "    return max2\n",
    "## main Function\n",
    "if __name__==\"__main__\":\n",
    "    lst = [8,8,7,6,5]\n",
    "    print(secondLargest(lst))\n"
   ]
  },
  {
   "cell_type": "markdown",
   "id": "4495ec19",
   "metadata": {},
   "source": [
    "#### 3. Check if the Array is sorted"
   ]
  },
  {
   "cell_type": "code",
   "execution_count": 5,
   "id": "696ef261",
   "metadata": {},
   "outputs": [
    {
     "name": "stdout",
     "output_type": "stream",
     "text": [
      "False\n"
     ]
    }
   ],
   "source": [
    "## Check if the Array is sorted\n",
    "def isSorted(lst):\n",
    "    for i in range(1,len(lst)):\n",
    "        if lst[i]<lst[i-1]:\n",
    "            return False\n",
    "    return True\n",
    "\n",
    "if __name__==\"__main__\":\n",
    "    lst = [1,2,1,4,5]\n",
    "    print(isSorted(lst))"
   ]
  },
  {
   "cell_type": "markdown",
   "id": "4cedad1b",
   "metadata": {},
   "source": [
    "#### 4. Array Sorted and Rotated"
   ]
  },
  {
   "cell_type": "code",
   "execution_count": 6,
   "id": "1a0d9da9",
   "metadata": {},
   "outputs": [
    {
     "name": "stdout",
     "output_type": "stream",
     "text": [
      "True\n"
     ]
    }
   ],
   "source": [
    "## Is Array Sorted and Rotated\n",
    "def reverseByPart(nums,i,j):\n",
    "    while i<j:\n",
    "        temp = nums[i]\n",
    "        nums[i]=nums[j]\n",
    "        nums[j]=temp\n",
    "        i+=1\n",
    "        j-=1\n",
    "def isSorte(nums):\n",
    "    for i in range(1,len(nums)):\n",
    "        if nums[i] < nums[i-1]:\n",
    "            return False\n",
    "    return True\n",
    "def check(nums):\n",
    "    #find k\n",
    "    n = len(nums)\n",
    "    idx = -1\n",
    "    for i in range(0,len(nums)-1):\n",
    "        if nums[i] > nums[i+1]:\n",
    "            idx = i\n",
    "            break\n",
    "    if idx == -1:\n",
    "        return True\n",
    "    else:\n",
    "        reverseByPart(nums, 0, idx)\n",
    "        reverseByPart(nums, idx + 1, n-1)\n",
    "        reverseByPart(nums, 0 , n-1)\n",
    "    return isSorte(nums)\n",
    "if __name__==\"__main__\":\n",
    "    lst = [3,4,5,6,7,0,1,2]\n",
    "    print(check(lst))"
   ]
  },
  {
   "cell_type": "markdown",
   "id": "594697fb",
   "metadata": {},
   "source": [
    "#### 5. Longest SubArray With Given SubArray Sum K(Positive)\n",
    "subarray = contigous part of array \n",
    "- [1,2,3,1,1,1,1,4,2,3]"
   ]
  },
  {
   "cell_type": "code",
   "execution_count": 7,
   "id": "a78c3c20",
   "metadata": {},
   "outputs": [
    {
     "name": "stdout",
     "output_type": "stream",
     "text": [
      "3\n"
     ]
    }
   ],
   "source": [
    "## Brute Force Approach O(n2)\n",
    "def LongestSubarray(lst,k):\n",
    "    maxlen = float('-inf')\n",
    "    for i in range(len(lst)):\n",
    "        for j in range(i,len(lst)):\n",
    "            Sum = sum(lst[i:j+1])\n",
    "            if Sum == k:\n",
    "                maxlen = max(maxlen,j-i+1)\n",
    "    return maxlen\n",
    "if __name__=='__main__':\n",
    "    lst = [1,2,3,1,1,1,1,4,2,3]\n",
    "    k = 3\n",
    "    print(LongestSubarray(lst,k))"
   ]
  },
  {
   "cell_type": "code",
   "execution_count": 8,
   "id": "26fa56bd",
   "metadata": {},
   "outputs": [
    {
     "name": "stdout",
     "output_type": "stream",
     "text": [
      "3\n"
     ]
    }
   ],
   "source": [
    "## Better Approach - By using Break statment we reduce further iterations after finding subarray\n",
    "def LongestSubarray(lst,k):\n",
    "    maxlen = float('-inf')\n",
    "    for i in range(len(lst)):\n",
    "        for j in range(i,len(lst)):\n",
    "            Sum = sum(lst[i:j+1])\n",
    "            if Sum == k:\n",
    "                maxlen = max(maxlen,j-i+1)\n",
    "                break\n",
    "    return maxlen\n",
    "if __name__=='__main__':\n",
    "    lst = [1,2,3,1,1,1,1,4,2,3]\n",
    "    k = 3\n",
    "    print(LongestSubarray(lst,k))"
   ]
  },
  {
   "cell_type": "code",
   "execution_count": 9,
   "id": "cc07b413",
   "metadata": {},
   "outputs": [
    {
     "name": "stdout",
     "output_type": "stream",
     "text": [
      "4\n"
     ]
    }
   ],
   "source": [
    "## Optimal Approach - Hash Map\n",
    "from collections import defaultdict\n",
    "def LongestSubarray(lst,k):\n",
    "    PreSum = defaultdict(int)\n",
    "    sum = 0\n",
    "    maxlen = 0\n",
    "    for i in range(len(lst)):\n",
    "        sum += lst[i]\n",
    "        if sum==k:\n",
    "            maxlen = max(maxlen,i+1)\n",
    "        rem = sum - k\n",
    "        if rem in PreSum:\n",
    "            length= i-PreSum[rem]\n",
    "            maxlen = max(maxlen,length)\n",
    "        if sum not in PreSum:\n",
    "            PreSum[sum] = i\n",
    "    return maxlen\n",
    "\n",
    "if __name__=='__main__':\n",
    "    lst = [1,2,3,1,1,1,1,4,2,3]\n",
    "    k = 6\n",
    "    print(LongestSubarray(lst,k))\n"
   ]
  },
  {
   "cell_type": "code",
   "execution_count": 10,
   "id": "553a1910",
   "metadata": {},
   "outputs": [
    {
     "name": "stdout",
     "output_type": "stream",
     "text": [
      "4\n"
     ]
    }
   ],
   "source": [
    "## Most Optimal Approach - Two Pointers Approach\n",
    "def LongestSubarray(lst,k):\n",
    "    right,left = 0,0\n",
    "    sum = lst[0]\n",
    "    maxlen = 0\n",
    "    n = len(lst)\n",
    "    while right < n:\n",
    "        while left <= right and sum > k:\n",
    "            sum -= lst[left]\n",
    "            left += 1\n",
    "        if sum == k:\n",
    "            maxlen = max(maxlen,right - left + 1)\n",
    "        right += 1\n",
    "        if right<n:\n",
    "            sum += lst[right]\n",
    "    return maxlen\n",
    "\n",
    "if __name__=='__main__':\n",
    "    lst = [1,2,3,1,1,1,1,4,2,3]\n",
    "    k = 6\n",
    "    print(LongestSubarray(lst,k))\n"
   ]
  },
  {
   "cell_type": "markdown",
   "id": "b7d2e4a4",
   "metadata": {},
   "source": [
    "#### 6. Majority Element\n",
    "- [2,2,1,1,1,2,2]\n",
    "- frequency of ele > n/2"
   ]
  },
  {
   "cell_type": "code",
   "execution_count": 11,
   "id": "89c0893a",
   "metadata": {},
   "outputs": [
    {
     "name": "stdout",
     "output_type": "stream",
     "text": [
      "2\n"
     ]
    }
   ],
   "source": [
    "## Better approach\n",
    "from collections import defaultdict\n",
    "def MajorityElement(lst):\n",
    "    count = defaultdict(int)\n",
    "    n = len(lst)\n",
    "    for i in range(n):\n",
    "        count[lst[i]]+=1\n",
    "    for key , value in count.items():\n",
    "        if value > n//2:\n",
    "            return key\n",
    "if __name__=='__main__':\n",
    "    lst = [2,2,1,1,1,2,2]\n",
    "    print(MajorityElement(lst))        "
   ]
  },
  {
   "cell_type": "code",
   "execution_count": 12,
   "id": "796d50f5",
   "metadata": {},
   "outputs": [
    {
     "name": "stdout",
     "output_type": "stream",
     "text": [
      "2\n"
     ]
    }
   ],
   "source": [
    "## Most Optimal Algorithm -Moore's Voting Algorithm\n",
    "from collections import defaultdict\n",
    "def MajorityElement(lst):\n",
    "    ele = 0\n",
    "    count = 0\n",
    "    for i in range(len(lst)):\n",
    "        if count==0:\n",
    "            ele = lst[i]\n",
    "            count = 1\n",
    "        elif lst[i]==ele:\n",
    "            count+=1\n",
    "        else :\n",
    "            count-=1\n",
    "    return ele\n",
    "if __name__=='__main__':\n",
    "    lst = [2,2,1,1,1,2,2]\n",
    "    print(MajorityElement(lst))        "
   ]
  },
  {
   "cell_type": "markdown",
   "id": "89a20361",
   "metadata": {},
   "source": [
    "#### 7. Maximum SubArray - Kandane's Algorithm\n",
    "- [-2,1,-3,4,-1,2,1,-5,4]\n",
    "- Output 6\n",
    "- The subarray [4,-1,2,1] has the largest sum 6."
   ]
  },
  {
   "cell_type": "code",
   "execution_count": 13,
   "id": "a86652d0",
   "metadata": {},
   "outputs": [
    {
     "name": "stdout",
     "output_type": "stream",
     "text": [
      "6\n"
     ]
    }
   ],
   "source": [
    "## Brute Force Approach\n",
    "def maxSubArray(lst):\n",
    "    maxsum = float('-inf')\n",
    "    for i in range(len(lst)):\n",
    "        for j in range(i,len(lst)):\n",
    "            Sum = sum(lst[i:j+1])\n",
    "            maxsum = max(Sum,maxsum)\n",
    "    return maxsum\n",
    "if __name__=='__main__':\n",
    "    lst = [-2,1,-3,4,-1,2,1,-5,4]\n",
    "    print(maxSubArray(lst))"
   ]
  },
  {
   "cell_type": "code",
   "execution_count": 14,
   "id": "c65eab05",
   "metadata": {},
   "outputs": [
    {
     "name": "stdout",
     "output_type": "stream",
     "text": [
      "6\n"
     ]
    }
   ],
   "source": [
    "## Most Optimal Approach\n",
    "def maxSubArray(lst):\n",
    "    maxi = float('-inf')\n",
    "    sum = 0\n",
    "    for i in range(len(lst)):\n",
    "        sum += lst[i]\n",
    "        maxi = max(maxi,sum)\n",
    "        if sum<0:\n",
    "            sum=0\n",
    "    return maxi\n",
    "if __name__=='__main__':\n",
    "    lst = [-2,1,-3,4,-1,2,1,-5,4]\n",
    "    print(maxSubArray(lst))"
   ]
  },
  {
   "cell_type": "code",
   "execution_count": 15,
   "id": "2e143051",
   "metadata": {},
   "outputs": [
    {
     "name": "stdout",
     "output_type": "stream",
     "text": [
      "3 6\n",
      "6\n"
     ]
    }
   ],
   "source": [
    "## Most Optimal Approach Find the subarry\n",
    "def maxSubArray(lst):\n",
    "    startans = -1\n",
    "    endans = -1\n",
    "    maxi = float('-inf')\n",
    "    sum = 0\n",
    "    for i in range(len(lst)):\n",
    "        if sum == 0 :\n",
    "            start = i\n",
    "        sum += lst[i]\n",
    "        if sum > maxi:\n",
    "            startans = start\n",
    "            endans = i\n",
    "        maxi = max(maxi,sum)\n",
    "        if sum<0:\n",
    "            sum=0\n",
    "    print(startans,endans)\n",
    "    return maxi\n",
    "if __name__=='__main__':\n",
    "    lst = [-2,1,-3,4,-1,2,1,-5,4]\n",
    "    print(maxSubArray(lst))"
   ]
  },
  {
   "cell_type": "markdown",
   "id": "2ab70cc8",
   "metadata": {},
   "source": [
    "#### 8. Best time to buy and sell stock\n",
    "Given an array arr of n integers, where arr[i] represents price of the stock on the ith day. Determine the maximum profit achievable by buying and selling the stock at most once. \n",
    "- Input: arr = [10, 7, 5, 8, 11, 9]\n",
    "- Output: 6\n",
    "- Explanation: Buy on day 3 (price = 5) and sell on day 5 (price = 11), profit = 11 - 5 = 6.\n",
    "\n",
    "- [5, 4, 3, 2, 1]\n",
    "- Output: 0\n",
    "- In this case, no transactions are made. Therefore, the maximum profit remains 0."
   ]
  },
  {
   "cell_type": "code",
   "execution_count": 16,
   "id": "74a08cb1",
   "metadata": {},
   "outputs": [
    {
     "name": "stdout",
     "output_type": "stream",
     "text": [
      "6\n"
     ]
    }
   ],
   "source": [
    "def MaxProfit(lst):\n",
    "    maxprofit = 0\n",
    "    mini = float('inf')\n",
    "    for i in range(len(lst)):\n",
    "        mini = min(mini,lst[i])\n",
    "        maxprofit = max(maxprofit,lst[i]-mini)\n",
    "    return maxprofit\n",
    "\n",
    "if __name__==\"__main__\":\n",
    "    lst = [10, 7, 5, 8, 11, 9]\n",
    "    print(MaxProfit(lst))"
   ]
  },
  {
   "cell_type": "markdown",
   "id": "e51e6007",
   "metadata": {},
   "source": [
    "#### 9. Rearrange Array Elements By Sign\n",
    "- Input: nums = [3,1,-2,-5,2,-4]\n",
    "- Output: [3,-2,1,-5,2,-4]"
   ]
  },
  {
   "cell_type": "code",
   "execution_count": 17,
   "id": "5fd358b5",
   "metadata": {},
   "outputs": [
    {
     "name": "stdout",
     "output_type": "stream",
     "text": [
      "[3, -2, 1, -5, 2, -4]\n"
     ]
    }
   ],
   "source": [
    "## Most Optimal Approach\n",
    "def rearrange(lst):\n",
    "    pos = 0\n",
    "    neg = 1\n",
    "    n = len(nums)\n",
    "    ans = [0]*n\n",
    "    for i in range(n):\n",
    "        if nums[i]<0:\n",
    "            ans[neg] = nums[i]\n",
    "            neg += 2\n",
    "        else:\n",
    "            ans[pos] = nums[i]\n",
    "            pos += 2\n",
    "    return ans\n",
    "nums = [3,1,-2,-5,2,-4]\n",
    "print(rearrange(lst))\n"
   ]
  },
  {
   "cell_type": "markdown",
   "id": "8a0a53ac",
   "metadata": {},
   "source": [
    "#### 10. Leaders in Array\n",
    "- [10,22,12,3,0,6]\n",
    "- leader - [22,12,6]"
   ]
  },
  {
   "cell_type": "code",
   "execution_count": 18,
   "id": "f0acffd7",
   "metadata": {},
   "outputs": [
    {
     "name": "stdout",
     "output_type": "stream",
     "text": [
      "[22, 12, 6]\n"
     ]
    }
   ],
   "source": [
    "def leader(lst):\n",
    "    maxi = float('-inf')\n",
    "    leader = []\n",
    "    for i in range(len(lst)-1,-1,-1):\n",
    "        if maxi<lst[i]:\n",
    "            maxi = lst[i]\n",
    "            leader.append(maxi)\n",
    "    return leader[::-1]\n",
    "\n",
    "lst = [10,22,12,3,0,6]\n",
    "print(leader(lst))"
   ]
  },
  {
   "cell_type": "markdown",
   "id": "f6b07625",
   "metadata": {},
   "source": [
    "#### Longest Consecutive Sequence in an Array\n",
    "- Input: nums = [100, 4, 200, 1, 3, 2]\n",
    "- Output: 4"
   ]
  },
  {
   "cell_type": "code",
   "execution_count": 19,
   "id": "7dbebfc7",
   "metadata": {},
   "outputs": [
    {
     "name": "stdout",
     "output_type": "stream",
     "text": [
      "4\n"
     ]
    }
   ],
   "source": [
    "def MaxLen(lst):\n",
    "    set1 = set(lst)\n",
    "    maxlen = float('-inf')\n",
    "    for num in set1:\n",
    "        if num-1 not in set1:\n",
    "            leng = 1\n",
    "            j = num+1\n",
    "            while j in set1:\n",
    "                leng += 1\n",
    "                maxlen = max(leng,maxlen)\n",
    "                j+=1\n",
    "    return maxlen\n",
    "if __name__ == '__main__':\n",
    "    lst = [100, 4, 200, 1, 3, 2]\n",
    "    print(MaxLen(lst))"
   ]
  },
  {
   "cell_type": "markdown",
   "id": "2320a308",
   "metadata": {},
   "source": [
    "#### Number Of Sub Arrays With Sum k\n",
    "- [1,2,3,-3,1,1,1,4,2,3]\n",
    "- k = 3\n",
    "- output = 8 -> in total 8 subarrays are present in arr of sum k"
   ]
  },
  {
   "cell_type": "code",
   "execution_count": 20,
   "id": "838fda84",
   "metadata": {},
   "outputs": [
    {
     "name": "stdout",
     "output_type": "stream",
     "text": [
      "8\n"
     ]
    }
   ],
   "source": [
    "## Brute Force Of Finding Number of Subarrays\n",
    "def Count(lst,k):\n",
    "    count = 0\n",
    "    for i in range(len(lst)):\n",
    "        sum = 0\n",
    "        for j in range(i,len(lst)):\n",
    "            sum += lst[j]\n",
    "            if sum == k:\n",
    "                count+=1\n",
    "    return count\n",
    "\n",
    "if __name__==\"__main__\":\n",
    "    lst = [1,2,3,-3,1,1,1,4,2,-3]\n",
    "    print(Count(lst,3))"
   ]
  },
  {
   "cell_type": "code",
   "execution_count": 21,
   "id": "8c3412d4",
   "metadata": {},
   "outputs": [
    {
     "name": "stdout",
     "output_type": "stream",
     "text": [
      "8\n"
     ]
    }
   ],
   "source": [
    "## Most Optimal\n",
    "from collections import defaultdict\n",
    "def Count(lst,k):\n",
    "    count = 0\n",
    "    presum = 0\n",
    "    countsum = defaultdict(int)\n",
    "    countsum[presum]+=1\n",
    "    for i in range(len(lst)):\n",
    "        presum += lst[i]\n",
    "        rem = presum - k\n",
    "        if rem in countsum:\n",
    "            count += countsum[rem]\n",
    "        countsum[presum]+=1\n",
    "    return count\n",
    "if __name__==\"__main__\":\n",
    "    lst = [1,2,3,-3,1,1,1,4,2,-3]\n",
    "    print(Count(lst,3))"
   ]
  },
  {
   "cell_type": "markdown",
   "id": "897639af",
   "metadata": {},
   "source": [
    "#### Majority Element (>n/3)\n",
    "- find all elements that appear more than ⌊ n/3 ⌋ times.\n",
    "- [1,1,1,3,3,2,2,2]\n",
    "- n = 8\n",
    "- n/3 = 2\n",
    "- [1,3]"
   ]
  },
  {
   "cell_type": "markdown",
   "id": "b041a925",
   "metadata": {},
   "source": []
  }
 ],
 "metadata": {
  "kernelspec": {
   "display_name": "Python 3",
   "language": "python",
   "name": "python3"
  },
  "language_info": {
   "codemirror_mode": {
    "name": "ipython",
    "version": 3
   },
   "file_extension": ".py",
   "mimetype": "text/x-python",
   "name": "python",
   "nbconvert_exporter": "python",
   "pygments_lexer": "ipython3",
   "version": "3.13.5"
  }
 },
 "nbformat": 4,
 "nbformat_minor": 5
}
