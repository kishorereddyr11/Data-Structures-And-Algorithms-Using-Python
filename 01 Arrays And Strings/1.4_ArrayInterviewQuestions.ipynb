{
 "cells": [
  {
   "cell_type": "markdown",
   "id": "597b7a5f",
   "metadata": {},
   "source": [
    "### Arrays Interview Problems"
   ]
  },
  {
   "cell_type": "markdown",
   "id": "5f24bc7a",
   "metadata": {},
   "source": [
    "#### 1. Largest Element In an Array"
   ]
  },
  {
   "cell_type": "code",
   "execution_count": 3,
   "id": "0226147e",
   "metadata": {},
   "outputs": [
    {
     "name": "stdout",
     "output_type": "stream",
     "text": [
      "6\n"
     ]
    }
   ],
   "source": [
    "## Largest Element In an Array\n",
    "def largestElement(lst):\n",
    "    ## max = negetive infinity\n",
    "    max = float( '-inf' )\n",
    "    for i in range(len(lst)):\n",
    "        if lst[i] > max :\n",
    "            max = lst[i]\n",
    "    return max\n",
    "\n",
    "if __name__==\"__main__\":\n",
    "    lst = [3,3,6,1]\n",
    "    print(largestElement(lst))\n"
   ]
  },
  {
   "cell_type": "markdown",
   "id": "35d6dd3e",
   "metadata": {},
   "source": [
    "#### 2. Second Largest Element In an Array without Sorting"
   ]
  },
  {
   "cell_type": "code",
   "execution_count": 4,
   "id": "639e39e9",
   "metadata": {},
   "outputs": [
    {
     "name": "stdout",
     "output_type": "stream",
     "text": [
      "7\n"
     ]
    }
   ],
   "source": [
    "## Second Largest Element In an Array without Sorting\n",
    "def secondLargest(lst):\n",
    "    max1 = max(lst)\n",
    "    max2 = float( '-inf' )\n",
    "    for i in range(len(lst)):\n",
    "        if lst[i] != max1 and lst[i] > max2 :\n",
    "            max2 = lst[i]\n",
    "    return max2\n",
    "## main Function\n",
    "if __name__==\"__main__\":\n",
    "    lst = [8,8,7,6,5]\n",
    "    print(secondLargest(lst))\n"
   ]
  },
  {
   "cell_type": "markdown",
   "id": "4495ec19",
   "metadata": {},
   "source": [
    "#### 3. Check if the Array is sorted"
   ]
  },
  {
   "cell_type": "code",
   "execution_count": 5,
   "id": "696ef261",
   "metadata": {},
   "outputs": [
    {
     "name": "stdout",
     "output_type": "stream",
     "text": [
      "False\n"
     ]
    }
   ],
   "source": [
    "## Check if the Array is sorted\n",
    "def isSorted(lst):\n",
    "    for i in range(1,len(lst)):\n",
    "        if lst[i]<lst[i-1]:\n",
    "            return False\n",
    "    return True\n",
    "\n",
    "if __name__==\"__main__\":\n",
    "    lst = [1,2,1,4,5]\n",
    "    print(isSorted(lst))"
   ]
  },
  {
   "cell_type": "markdown",
   "id": "4cedad1b",
   "metadata": {},
   "source": [
    "#### 4. Array Sorted and Rotated"
   ]
  },
  {
   "cell_type": "code",
   "execution_count": 6,
   "id": "1a0d9da9",
   "metadata": {},
   "outputs": [
    {
     "name": "stdout",
     "output_type": "stream",
     "text": [
      "True\n"
     ]
    }
   ],
   "source": [
    "## Is Array Sorted and Rotated\n",
    "def reverseByPart(nums,i,j):\n",
    "    while i<j:\n",
    "        temp = nums[i]\n",
    "        nums[i]=nums[j]\n",
    "        nums[j]=temp\n",
    "        i+=1\n",
    "        j-=1\n",
    "def isSorte(nums):\n",
    "    for i in range(1,len(nums)):\n",
    "        if nums[i] < nums[i-1]:\n",
    "            return False\n",
    "    return True\n",
    "def check(nums):\n",
    "    #find k\n",
    "    n = len(nums)\n",
    "    idx = -1\n",
    "    for i in range(0,len(nums)-1):\n",
    "        if nums[i] > nums[i+1]:\n",
    "            idx = i\n",
    "            break\n",
    "    if idx == -1:\n",
    "        return True\n",
    "    else:\n",
    "        reverseByPart(nums, 0, idx)\n",
    "        reverseByPart(nums, idx + 1, n-1)\n",
    "        reverseByPart(nums, 0 , n-1)\n",
    "    return isSorte(nums)\n",
    "if __name__==\"__main__\":\n",
    "    lst = [3,4,5,6,7,0,1,2]\n",
    "    print(check(lst))"
   ]
  },
  {
   "cell_type": "markdown",
   "id": "594697fb",
   "metadata": {},
   "source": [
    "#### 5. Longest SubArray With Given SubArray Sum K(Positive)\n",
    "subarray = contigous part of array \n",
    "- [1,2,3,1,1,1,1,4,2,3]"
   ]
  },
  {
   "cell_type": "code",
   "execution_count": 7,
   "id": "a78c3c20",
   "metadata": {},
   "outputs": [
    {
     "name": "stdout",
     "output_type": "stream",
     "text": [
      "3\n"
     ]
    }
   ],
   "source": [
    "## Brute Force Approach O(n2)\n",
    "def LongestSubarray(lst,k):\n",
    "    maxlen = float('-inf')\n",
    "    for i in range(len(lst)):\n",
    "        for j in range(i,len(lst)):\n",
    "            Sum = sum(lst[i:j+1])\n",
    "            if Sum == k:\n",
    "                maxlen = max(maxlen,j-i+1)\n",
    "    return maxlen\n",
    "if __name__=='__main__':\n",
    "    lst = [1,2,3,1,1,1,1,4,2,3]\n",
    "    k = 3\n",
    "    print(LongestSubarray(lst,k))"
   ]
  },
  {
   "cell_type": "code",
   "execution_count": 8,
   "id": "26fa56bd",
   "metadata": {},
   "outputs": [
    {
     "name": "stdout",
     "output_type": "stream",
     "text": [
      "3\n"
     ]
    }
   ],
   "source": [
    "## Better Approach - By using Break statment we reduce further iterations after finding subarray\n",
    "def LongestSubarray(lst,k):\n",
    "    maxlen = float('-inf')\n",
    "    for i in range(len(lst)):\n",
    "        for j in range(i,len(lst)):\n",
    "            Sum = sum(lst[i:j+1])\n",
    "            if Sum == k:\n",
    "                maxlen = max(maxlen,j-i+1)\n",
    "                break\n",
    "    return maxlen\n",
    "if __name__=='__main__':\n",
    "    lst = [1,2,3,1,1,1,1,4,2,3]\n",
    "    k = 3\n",
    "    print(LongestSubarray(lst,k))"
   ]
  },
  {
   "cell_type": "code",
   "execution_count": 1,
   "id": "cc07b413",
   "metadata": {},
   "outputs": [
    {
     "name": "stdout",
     "output_type": "stream",
     "text": [
      "4\n"
     ]
    }
   ],
   "source": [
    "## Optimal Approach - Hash Map\n",
    "from collections import defaultdict\n",
    "def LongestSubarray(lst,k):\n",
    "    PreSum = defaultdict(int)\n",
    "    sum = 0\n",
    "    maxlen = 0\n",
    "    for i in range(len(lst)):\n",
    "        sum += lst[i]\n",
    "        if sum==k:\n",
    "            maxlen = max(maxlen,i+1)\n",
    "        rem = sum - k\n",
    "        if rem in PreSum:\n",
    "            length= i-PreSum[rem]\n",
    "            maxlen = max(maxlen,length)\n",
    "        if sum not in PreSum:\n",
    "            PreSum[sum] = i\n",
    "    return maxlen\n",
    "\n",
    "if __name__=='__main__':\n",
    "    lst = [1,2,3,1,1,1,1,4,2,3]\n",
    "    k = 6\n",
    "    print(LongestSubarray(lst,k))\n"
   ]
  },
  {
   "cell_type": "code",
   "execution_count": 2,
   "id": "553a1910",
   "metadata": {},
   "outputs": [
    {
     "name": "stdout",
     "output_type": "stream",
     "text": [
      "4\n"
     ]
    }
   ],
   "source": [
    "## Most Optimal Approach - Two Pointers Approach\n",
    "def LongestSubarray(lst,k):\n",
    "    right,left = 0,0\n",
    "    sum = lst[0]\n",
    "    maxlen = 0\n",
    "    n = len(lst)\n",
    "    while right < n:\n",
    "        while left <= right and sum > k:\n",
    "            sum -= lst[left]\n",
    "            left += 1\n",
    "        if sum == k:\n",
    "            maxlen = max(maxlen,right - left + 1)\n",
    "        right += 1\n",
    "        if right<n:\n",
    "            sum += lst[right]\n",
    "    return maxlen\n",
    "\n",
    "if __name__=='__main__':\n",
    "    lst = [1,2,3,1,1,1,1,4,2,3]\n",
    "    k = 6\n",
    "    print(LongestSubarray(lst,k))\n"
   ]
  },
  {
   "cell_type": "markdown",
   "id": "b7d2e4a4",
   "metadata": {},
   "source": [
    "#### 6. Majority Element\n",
    "- [2,2,1,1,1,2,2]\n",
    "- frequency of ele > n/2"
   ]
  },
  {
   "cell_type": "code",
   "execution_count": 11,
   "id": "89c0893a",
   "metadata": {},
   "outputs": [
    {
     "name": "stdout",
     "output_type": "stream",
     "text": [
      "2\n"
     ]
    }
   ],
   "source": [
    "## Better approach\n",
    "from collections import defaultdict\n",
    "def MajorityElement(lst):\n",
    "    count = defaultdict(int)\n",
    "    n = len(lst)\n",
    "    for i in range(n):\n",
    "        count[lst[i]]+=1\n",
    "    for key , value in count.items():\n",
    "        if value > n//2:\n",
    "            return key\n",
    "if __name__=='__main__':\n",
    "    lst = [2,2,1,1,1,2,2]\n",
    "    print(MajorityElement(lst))        "
   ]
  },
  {
   "cell_type": "code",
   "execution_count": 12,
   "id": "796d50f5",
   "metadata": {},
   "outputs": [
    {
     "name": "stdout",
     "output_type": "stream",
     "text": [
      "2\n"
     ]
    }
   ],
   "source": [
    "## Most Optimal Algorithm -Moore's Voting Algorithm\n",
    "from collections import defaultdict\n",
    "def MajorityElement(lst):\n",
    "    ele = 0\n",
    "    count = 0\n",
    "    for i in range(len(lst)):\n",
    "        if count==0:\n",
    "            ele = lst[i]\n",
    "            count = 1\n",
    "        elif lst[i]==ele:\n",
    "            count+=1\n",
    "        else :\n",
    "            count-=1\n",
    "    return ele\n",
    "if __name__=='__main__':\n",
    "    lst = [2,2,1,1,1,2,2]\n",
    "    print(MajorityElement(lst))        "
   ]
  },
  {
   "cell_type": "markdown",
   "id": "89a20361",
   "metadata": {},
   "source": [
    "#### 7. Maximum SubArray - Kandane's Algorithm\n",
    "- [-2,1,-3,4,-1,2,1,-5,4]\n",
    "- Output 6\n",
    "- The subarray [4,-1,2,1] has the largest sum 6."
   ]
  },
  {
   "cell_type": "code",
   "execution_count": 13,
   "id": "a86652d0",
   "metadata": {},
   "outputs": [
    {
     "name": "stdout",
     "output_type": "stream",
     "text": [
      "6\n"
     ]
    }
   ],
   "source": [
    "## Brute Force Approach\n",
    "def maxSubArray(lst):\n",
    "    maxsum = float('-inf')\n",
    "    for i in range(len(lst)):\n",
    "        for j in range(i,len(lst)):\n",
    "            Sum = sum(lst[i:j+1])\n",
    "            maxsum = max(Sum,maxsum)\n",
    "    return maxsum\n",
    "if __name__=='__main__':\n",
    "    lst = [-2,1,-3,4,-1,2,1,-5,4]\n",
    "    print(maxSubArray(lst))"
   ]
  },
  {
   "cell_type": "code",
   "execution_count": 14,
   "id": "c65eab05",
   "metadata": {},
   "outputs": [
    {
     "name": "stdout",
     "output_type": "stream",
     "text": [
      "6\n"
     ]
    }
   ],
   "source": [
    "## Most Optimal Approach\n",
    "def maxSubArray(lst):\n",
    "    maxi = float('-inf')\n",
    "    sum = 0\n",
    "    for i in range(len(lst)):\n",
    "        sum += lst[i]\n",
    "        maxi = max(maxi,sum)\n",
    "        if sum<0:\n",
    "            sum=0\n",
    "    return maxi\n",
    "if __name__=='__main__':\n",
    "    lst = [-2,1,-3,4,-1,2,1,-5,4]\n",
    "    print(maxSubArray(lst))"
   ]
  },
  {
   "cell_type": "code",
   "execution_count": 15,
   "id": "2e143051",
   "metadata": {},
   "outputs": [
    {
     "name": "stdout",
     "output_type": "stream",
     "text": [
      "3 6\n",
      "6\n"
     ]
    }
   ],
   "source": [
    "## Most Optimal Approach Find the subarry\n",
    "def maxSubArray(lst):\n",
    "    startans = -1\n",
    "    endans = -1\n",
    "    maxi = float('-inf')\n",
    "    sum = 0\n",
    "    for i in range(len(lst)):\n",
    "        if sum == 0 :\n",
    "            start = i\n",
    "        sum += lst[i]\n",
    "        if sum > maxi:\n",
    "            startans = start\n",
    "            endans = i\n",
    "        maxi = max(maxi,sum)\n",
    "        if sum<0:\n",
    "            sum=0\n",
    "    print(startans,endans)\n",
    "    return maxi\n",
    "if __name__=='__main__':\n",
    "    lst = [-2,1,-3,4,-1,2,1,-5,4]\n",
    "    print(maxSubArray(lst))"
   ]
  },
  {
   "cell_type": "markdown",
   "id": "2ab70cc8",
   "metadata": {},
   "source": [
    "#### 8. Best time to buy and sell stock\n",
    "Given an array arr of n integers, where arr[i] represents price of the stock on the ith day. Determine the maximum profit achievable by buying and selling the stock at most once. \n",
    "- Input: arr = [10, 7, 5, 8, 11, 9]\n",
    "- Output: 6\n",
    "- Explanation: Buy on day 3 (price = 5) and sell on day 5 (price = 11), profit = 11 - 5 = 6.\n",
    "\n",
    "- [5, 4, 3, 2, 1]\n",
    "- Output: 0\n",
    "- In this case, no transactions are made. Therefore, the maximum profit remains 0."
   ]
  },
  {
   "cell_type": "code",
   "execution_count": 16,
   "id": "74a08cb1",
   "metadata": {},
   "outputs": [
    {
     "name": "stdout",
     "output_type": "stream",
     "text": [
      "6\n"
     ]
    }
   ],
   "source": [
    "def MaxProfit(lst):\n",
    "    maxprofit = 0\n",
    "    mini = float('inf')\n",
    "    for i in range(len(lst)):\n",
    "        mini = min(mini,lst[i])\n",
    "        maxprofit = max(maxprofit,lst[i]-mini)\n",
    "    return maxprofit\n",
    "\n",
    "if __name__==\"__main__\":\n",
    "    lst = [10, 7, 5, 8, 11, 9]\n",
    "    print(MaxProfit(lst))"
   ]
  },
  {
   "cell_type": "markdown",
   "id": "e51e6007",
   "metadata": {},
   "source": [
    "#### 9. Rearrange Array Elements By Sign\n",
    "- Input: nums = [3,1,-2,-5,2,-4]\n",
    "- Output: [3,-2,1,-5,2,-4]"
   ]
  },
  {
   "cell_type": "code",
   "execution_count": 17,
   "id": "5fd358b5",
   "metadata": {},
   "outputs": [
    {
     "name": "stdout",
     "output_type": "stream",
     "text": [
      "[3, -2, 1, -5, 2, -4]\n"
     ]
    }
   ],
   "source": [
    "## Most Optimal Approach\n",
    "def rearrange(lst):\n",
    "    pos = 0\n",
    "    neg = 1\n",
    "    n = len(nums)\n",
    "    ans = [0]*n\n",
    "    for i in range(n):\n",
    "        if nums[i]<0:\n",
    "            ans[neg] = nums[i]\n",
    "            neg += 2\n",
    "        else:\n",
    "            ans[pos] = nums[i]\n",
    "            pos += 2\n",
    "    return ans\n",
    "nums = [3,1,-2,-5,2,-4]\n",
    "print(rearrange(lst))\n"
   ]
  },
  {
   "cell_type": "markdown",
   "id": "8a0a53ac",
   "metadata": {},
   "source": [
    "#### 10. Leaders in Array\n",
    "- [10,22,12,3,0,6]\n",
    "- leader - [22,12,6]"
   ]
  },
  {
   "cell_type": "code",
   "execution_count": 18,
   "id": "f0acffd7",
   "metadata": {},
   "outputs": [
    {
     "name": "stdout",
     "output_type": "stream",
     "text": [
      "[22, 12, 6]\n"
     ]
    }
   ],
   "source": [
    "def leader(lst):\n",
    "    maxi = float('-inf')\n",
    "    leader = []\n",
    "    for i in range(len(lst)-1,-1,-1):\n",
    "        if maxi<lst[i]:\n",
    "            maxi = lst[i]\n",
    "            leader.append(maxi)\n",
    "    return leader[::-1]\n",
    "\n",
    "lst = [10,22,12,3,0,6]\n",
    "print(leader(lst))"
   ]
  },
  {
   "cell_type": "markdown",
   "id": "f6b07625",
   "metadata": {},
   "source": [
    "#### 11 Longest Consecutive Sequence in an Array\n",
    "- Input: nums = [100, 4, 200, 1, 3, 2]\n",
    "- Output: 4"
   ]
  },
  {
   "cell_type": "code",
   "execution_count": 19,
   "id": "7dbebfc7",
   "metadata": {},
   "outputs": [
    {
     "name": "stdout",
     "output_type": "stream",
     "text": [
      "4\n"
     ]
    }
   ],
   "source": [
    "def MaxLen(lst):\n",
    "    set1 = set(lst)\n",
    "    maxlen = float('-inf')\n",
    "    for num in set1:\n",
    "        if num-1 not in set1:\n",
    "            leng = 1\n",
    "            j = num+1\n",
    "            while j in set1:\n",
    "                leng += 1\n",
    "                maxlen = max(leng,maxlen)\n",
    "                j+=1\n",
    "    return maxlen\n",
    "if __name__ == '__main__':\n",
    "    lst = [100, 4, 200, 1, 3, 2]\n",
    "    print(MaxLen(lst))"
   ]
  },
  {
   "cell_type": "markdown",
   "id": "2320a308",
   "metadata": {},
   "source": [
    "#### 12 Number Of Sub Arrays With Sum k\n",
    "- [1,2,3,-3,1,1,1,4,2,3]\n",
    "- k = 3\n",
    "- output = 8 -> in total 8 subarrays are present in arr of sum k"
   ]
  },
  {
   "cell_type": "code",
   "execution_count": 20,
   "id": "838fda84",
   "metadata": {},
   "outputs": [
    {
     "name": "stdout",
     "output_type": "stream",
     "text": [
      "8\n"
     ]
    }
   ],
   "source": [
    "## Brute Force Of Finding Number of Subarrays\n",
    "def Count(lst,k):\n",
    "    count = 0\n",
    "    for i in range(len(lst)):\n",
    "        sum = 0\n",
    "        for j in range(i,len(lst)):\n",
    "            sum += lst[j]\n",
    "            if sum == k:\n",
    "                count+=1\n",
    "    return count\n",
    "\n",
    "if __name__==\"__main__\":\n",
    "    lst = [1,2,3,-3,1,1,1,4,2,-3]\n",
    "    print(Count(lst,3))"
   ]
  },
  {
   "cell_type": "code",
   "execution_count": 21,
   "id": "8c3412d4",
   "metadata": {},
   "outputs": [
    {
     "name": "stdout",
     "output_type": "stream",
     "text": [
      "8\n"
     ]
    }
   ],
   "source": [
    "## Most Optimal\n",
    "from collections import defaultdict\n",
    "def Count(lst,k):\n",
    "    count = 0\n",
    "    presum = 0\n",
    "    countsum = defaultdict(int)\n",
    "    countsum[presum]+=1\n",
    "    for i in range(len(lst)):\n",
    "        presum += lst[i]\n",
    "        rem = presum - k\n",
    "        if rem in countsum:\n",
    "            count += countsum[rem]\n",
    "        countsum[presum]+=1\n",
    "    return count\n",
    "if __name__==\"__main__\":\n",
    "    lst = [1,2,3,-3,1,1,1,4,2,-3]\n",
    "    print(Count(lst,3))"
   ]
  },
  {
   "cell_type": "markdown",
   "id": "897639af",
   "metadata": {},
   "source": [
    "#### 13 Majority Element (>n/3)\n",
    "- find all elements that appear more than ⌊ n/3 ⌋ times.\n",
    "- [1,1,1,3,3,2,2,2]\n",
    "- n = 8\n",
    "- n/3 = 2\n",
    "- [1,3]"
   ]
  },
  {
   "cell_type": "code",
   "execution_count": null,
   "id": "6755d71b",
   "metadata": {},
   "outputs": [
    {
     "name": "stdout",
     "output_type": "stream",
     "text": [
      "[1, 2]\n"
     ]
    }
   ],
   "source": [
    "## Brute Force Techinique\n",
    "def majority(lst):\n",
    "    length = len(lst)\n",
    "    n = length//3\n",
    "    ans = []\n",
    "    for i in range(length):\n",
    "        if  len(ans)==0 or ans[0]!=lst[i]:\n",
    "            count = 0\n",
    "            for j in range(i,length):\n",
    "                if lst[i]==lst[j]:\n",
    "                    count+=1\n",
    "            if count>n:\n",
    "                ans.append(lst[i])\n",
    "            if len(ans)==n:\n",
    "                break\n",
    "    return ans\n",
    "if __name__=='__main__':\n",
    "    lst = [1,1,1,3,3,2,2,2]\n",
    "    print(majority(lst))"
   ]
  },
  {
   "cell_type": "code",
   "execution_count": 5,
   "id": "026b3463",
   "metadata": {},
   "outputs": [
    {
     "name": "stdout",
     "output_type": "stream",
     "text": [
      "[1, 2]\n"
     ]
    }
   ],
   "source": [
    "## Better Technique\n",
    "from collections import defaultdict\n",
    "def majority(lst):\n",
    "    length = len(lst)\n",
    "    n = length//3\n",
    "    count = defaultdict(int)\n",
    "    ans = []\n",
    "    for i in range(length):\n",
    "        count[lst[i]]+=1\n",
    "        if count[lst[i]]>n and (len(ans)==0 or ans[0]!=lst[i]):\n",
    "            ans.append(lst[i])\n",
    "    return ans\n",
    "if __name__=='__main__':\n",
    "    lst = [1,1,1,3,3,2,2,2]\n",
    "    print(majority(lst))"
   ]
  },
  {
   "cell_type": "code",
   "execution_count": 6,
   "id": "d707e14e",
   "metadata": {},
   "outputs": [
    {
     "name": "stdout",
     "output_type": "stream",
     "text": [
      "[1, 2]\n"
     ]
    }
   ],
   "source": [
    "## Better Technique\n",
    "from collections import defaultdict\n",
    "def majority(nums):\n",
    "    cnt1, cnt2 = 0,0\n",
    "    ele1, ele2 = float('-inf'),float('-inf')\n",
    "    n = len(nums)\n",
    "    for i in range(n):\n",
    "        if cnt1 == 0 and ele2 != nums[i]:\n",
    "            cnt1 = 1\n",
    "            ele1 = nums[i]\n",
    "        elif cnt2 == 0 and ele1 != nums[i]:\n",
    "            cnt2 = 1\n",
    "            ele2 = nums[i]\n",
    "        elif nums[i]== ele1 :\n",
    "            cnt1 += 1\n",
    "        elif nums[i] == ele2 :\n",
    "            cnt2 += 1\n",
    "        else :\n",
    "            cnt1 -= 1\n",
    "            cnt2 -=1\n",
    "    ans = []\n",
    "    cnt1, cnt2 = 0, 0\n",
    "    for i in range(n):\n",
    "        if nums[i]==ele1:\n",
    "            cnt1 += 1\n",
    "        elif nums[i] == ele2:\n",
    "            cnt2 += 1\n",
    "    mini = int(n/3)+1\n",
    "    if cnt1 >= mini:\n",
    "        ans.append(ele1)\n",
    "    if cnt2 >= mini:\n",
    "        ans.append(ele2)\n",
    "    return ans\n",
    "\n",
    "if __name__=='__main__':\n",
    "    lst = [1,1,1,3,3,2,2,2]\n",
    "    print(majority(lst))"
   ]
  },
  {
   "cell_type": "markdown",
   "id": "6ecfe70e",
   "metadata": {},
   "source": [
    "#### 14. 3 Sum\n",
    "- nums = [-1,0,1,2,-1,-4]\n",
    "- Output: [[-1,-1,2],[-1,0,1]]"
   ]
  },
  {
   "cell_type": "code",
   "execution_count": 18,
   "id": "9dfeb834",
   "metadata": {},
   "outputs": [
    {
     "name": "stdout",
     "output_type": "stream",
     "text": [
      "{(-1, 0, 1), (-1, -1, 2)}\n"
     ]
    }
   ],
   "source": [
    "## Brute Force\n",
    "\n",
    "def ThreeSum(lst):\n",
    "    uniqueset1 = set()\n",
    "    for i in range(len(lst)):\n",
    "        for j in range(i+1,len(lst)):\n",
    "            for k in range(j+1 , len(lst)):\n",
    "                if lst[i]+lst[j]+lst[k] == 0:\n",
    "                    arr = [lst[i],lst[j],lst[k]]\n",
    "                    arr.sort()\n",
    "                    uniqueset1.add(tuple(arr))\n",
    "    return uniqueset1\n",
    "if __name__ == \"__main__\":\n",
    "    lst = [-1,0,1,2,-1,-4]\n",
    "    print(ThreeSum(lst))"
   ]
  },
  {
   "cell_type": "code",
   "execution_count": 20,
   "id": "5779ee2a",
   "metadata": {},
   "outputs": [
    {
     "name": "stdout",
     "output_type": "stream",
     "text": [
      "[[-1, -1, 2], [-1, 0, 1]]\n"
     ]
    }
   ],
   "source": [
    "## Brute Force\n",
    "\n",
    "def ThreeSum(nums):\n",
    "    nums.sort()\n",
    "    n = len(nums)\n",
    "    ans = []\n",
    "    for i in range(n):\n",
    "        if i>0 and nums[i] == nums[i-1]:continue    \n",
    "        j = i + 1\n",
    "        k = n - 1\n",
    "        while j < k:\n",
    "            sum = nums[i] + nums[j] +nums[k]\n",
    "            if sum > 0:\n",
    "                k -= 1\n",
    "            elif sum < 0:\n",
    "                j += 1\n",
    "            else :\n",
    "                ans.append([nums[i] , nums[j] , nums[k]])\n",
    "                j += 1\n",
    "                k -= 1\n",
    "                while j < k and nums[j] == nums[j-1]:\n",
    "                    j += 1\n",
    "                while j < k and nums[k] == nums[k+1]:\n",
    "                    k -= 1\n",
    "    return ans\n",
    "if __name__ == \"__main__\":\n",
    "    lst = [-1,0,1,2,-1,-4]\n",
    "    print(ThreeSum(lst))"
   ]
  },
  {
   "cell_type": "markdown",
   "id": "3fd8b654",
   "metadata": {},
   "source": [
    "#### 15. Largest Subarray with 0 sum"
   ]
  },
  {
   "cell_type": "code",
   "execution_count": 30,
   "id": "4edc0fad",
   "metadata": {},
   "outputs": [
    {
     "name": "stdout",
     "output_type": "stream",
     "text": [
      "5\n"
     ]
    }
   ],
   "source": [
    "## Brute Force\n",
    "from collections import defaultdict\n",
    "def subarraylen(nums):\n",
    "    count = defaultdict(int)\n",
    "    n = len(nums)\n",
    "    maxlen = float('-inf')\n",
    "    sum = 0\n",
    "    for i in range(n):\n",
    "        sum += lst[i]\n",
    "        if sum == 0:\n",
    "            maxlen = max(maxlen,i+1)\n",
    "        if sum in count:\n",
    "            length = i - count[sum]\n",
    "            maxlen = max(maxlen,length)\n",
    "        else :\n",
    "            count[sum] = i\n",
    "    return maxlen\n",
    "\n",
    "if __name__ == \"__main__\":\n",
    "    lst = [-15,-2,2,-8,1,7,10,23]\n",
    "    print(subarraylen(lst))"
   ]
  },
  {
   "cell_type": "markdown",
   "id": "f2256624",
   "metadata": {},
   "source": [
    "#### 16. Count number of subarrays with given xor K\n",
    "-  [4, 2, 2, 6, 4], k = 6\n",
    "- No of subarays is 4"
   ]
  },
  {
   "cell_type": "code",
   "execution_count": 34,
   "id": "83ee9ddd",
   "metadata": {},
   "outputs": [
    {
     "name": "stdout",
     "output_type": "stream",
     "text": [
      "4\n"
     ]
    }
   ],
   "source": [
    "##  Brute Force\n",
    "def counts(lst,target):\n",
    "    count = 0\n",
    "    for i in range(len(lst)):\n",
    "        xor = 0\n",
    "        for j in range(i,len(lst)):\n",
    "            xor = xor ^ lst[j]\n",
    "            if xor == target:\n",
    "                count += 1\n",
    "    return count\n",
    "if __name__==\"__main__\":\n",
    "    lst = [4,2,2,6,4]\n",
    "    print(counts(lst,6))"
   ]
  },
  {
   "cell_type": "code",
   "execution_count": 36,
   "id": "f7eb4b60",
   "metadata": {},
   "outputs": [
    {
     "name": "stdout",
     "output_type": "stream",
     "text": [
      "4\n"
     ]
    }
   ],
   "source": [
    "##  Brute Force\n",
    "from collections import defaultdict\n",
    "def counts(lst,target):\n",
    "    prexor = 0\n",
    "    count = 0\n",
    "    map = defaultdict(int)\n",
    "    map[prexor] += 1\n",
    "    for i in range(len(lst)):\n",
    "        prexor = prexor ^ lst[i]\n",
    "        rem = prexor ^ target\n",
    "        if rem in map :\n",
    "            count = count + map[rem]\n",
    "        else:\n",
    "            map[prexor] += 1\n",
    "    return count\n",
    "if __name__==\"__main__\":\n",
    "    lst = [4,2,2,6,4]\n",
    "    print(counts(lst,6))"
   ]
  },
  {
   "cell_type": "markdown",
   "id": "93dd73eb",
   "metadata": {},
   "source": [
    "#### Merge Overlaping Subintervels\n",
    "- [[1,3],[2,4],[2,6],[8,9],[8,10],[9,11],[15,18],[16,17]]\n",
    "- After overlapping\n",
    "- [[1,6],[8,11],[15,18]]"
   ]
  },
  {
   "cell_type": "code",
   "execution_count": 37,
   "id": "685a35a9",
   "metadata": {},
   "outputs": [
    {
     "name": "stdout",
     "output_type": "stream",
     "text": [
      "[[1, 6], [8, 11], [15, 18]]\n"
     ]
    }
   ],
   "source": [
    "def overlapping(intervals):\n",
    "    intervals.sort()\n",
    "    n = len(intervals)\n",
    "    ans = []\n",
    "    for i in range(n):\n",
    "        start = intervals[i][0]\n",
    "        end = intervals[i][1]\n",
    "        if len(ans)>0 and end <= ans[-1][1]:\n",
    "            continue\n",
    "        for j in range(i+1, n):\n",
    "            if intervals[j][0] <= end:\n",
    "                end = max(end,intervals[j][1])\n",
    "            else:\n",
    "                break\n",
    "        ans.append([start,end])\n",
    "    return ans\n",
    "if __name__ == '__main__':\n",
    "    lst = [[1,3],[2,4],[2,6],[8,9],[8,10],[9,11],[15,18],[16,17]]\n",
    "    print(overlapping(lst))"
   ]
  },
  {
   "cell_type": "code",
   "execution_count": 38,
   "id": "aab57a21",
   "metadata": {},
   "outputs": [
    {
     "name": "stdout",
     "output_type": "stream",
     "text": [
      "[[1, 6], [8, 11], [15, 18]]\n"
     ]
    }
   ],
   "source": [
    "def overlapping(intervals):\n",
    "    intervals.sort()\n",
    "    n = len(intervals)\n",
    "    ans = []\n",
    "    for i in range(n):\n",
    "        if len(ans)==0 or intervals[i][0] > ans[-1][1]:\n",
    "            ans.append(intervals[i])\n",
    "        else:\n",
    "            ans[-1][1] = max(ans[-1][1],intervals[i][1])\n",
    "    return ans \n",
    "if __name__ == '__main__':\n",
    "    lst = [[1,3],[2,4],[2,6],[8,9],[8,10],[9,11],[15,18],[16,17]]\n",
    "    print(overlapping(lst))"
   ]
  },
  {
   "cell_type": "markdown",
   "id": "af79fc0c",
   "metadata": {},
   "source": [
    "#### Count Repeating and Missing Element\n",
    "- [4,3,6,2,1,1]\n",
    "- [1,5]\n",
    "- 1 is repeating \n",
    "- 5 is missing"
   ]
  },
  {
   "cell_type": "code",
   "execution_count": 39,
   "id": "85386550",
   "metadata": {},
   "outputs": [
    {
     "name": "stdout",
     "output_type": "stream",
     "text": [
      "[1, 5]\n"
     ]
    }
   ],
   "source": [
    "## Brute\n",
    "def RepMiss(lst):\n",
    "    repeating = -1\n",
    "    missing = -1\n",
    "    for i in range(1,len(lst)):\n",
    "        count = 0\n",
    "        for j in range(len(lst)):\n",
    "            if lst[j] == i:\n",
    "                count+=1\n",
    "        if count == 2:\n",
    "            repeating = i\n",
    "        elif count == 0:\n",
    "            missing = i\n",
    "    return [repeating,missing]\n",
    "lst = [4,3,6,2,1,1]\n",
    "print(RepMiss(lst))"
   ]
  },
  {
   "cell_type": "code",
   "execution_count": 42,
   "id": "d53216b7",
   "metadata": {},
   "outputs": [
    {
     "name": "stdout",
     "output_type": "stream",
     "text": [
      "[1, 5]\n"
     ]
    }
   ],
   "source": [
    "## Hasharray Approach\n",
    "def RepMiss(lst):\n",
    "    n = len(lst)\n",
    "    repeating = -1\n",
    "    missing = -1\n",
    "    hasharr = [0]*(n+1)\n",
    "    for i in range(n):\n",
    "        hasharr[lst[i]] += 1\n",
    "    for i in range(1,n+1):\n",
    "        if hasharr[i]==2:\n",
    "            repeating = i\n",
    "        if hasharr[i]==0:\n",
    "            missing = i\n",
    "    return [repeating,missing]\n",
    "lst = [4,3,6,2,1,1]\n",
    "print(RepMiss(lst))"
   ]
  }
 ],
 "metadata": {
  "kernelspec": {
   "display_name": "Python 3",
   "language": "python",
   "name": "python3"
  },
  "language_info": {
   "codemirror_mode": {
    "name": "ipython",
    "version": 3
   },
   "file_extension": ".py",
   "mimetype": "text/x-python",
   "name": "python",
   "nbconvert_exporter": "python",
   "pygments_lexer": "ipython3",
   "version": "3.13.5"
  }
 },
 "nbformat": 4,
 "nbformat_minor": 5
}
