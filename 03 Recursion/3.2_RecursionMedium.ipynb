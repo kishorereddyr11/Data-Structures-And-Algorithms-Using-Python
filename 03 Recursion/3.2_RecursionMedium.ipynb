{
 "cells": [
  {
   "cell_type": "markdown",
   "id": "ff897733",
   "metadata": {},
   "source": [
    "### Recursion Medium\n",
    "1. Print Alternative Character\n",
    "2. Skip a Character\n",
    "3. Subset of a String\n",
    "4. Subset II original string contain duplicates\n",
    "5. Print all Inceresing Subsequence\n",
    "6. Permutations"
   ]
  },
  {
   "cell_type": "code",
   "execution_count": 2,
   "id": "a0556475",
   "metadata": {},
   "outputs": [
    {
     "name": "stdout",
     "output_type": "stream",
     "text": [
      "KsoeRdy\n"
     ]
    }
   ],
   "source": [
    "## Skip A Character\n",
    "def Skip(str,s,idx):\n",
    "    if idx >= len(str):\n",
    "        print(s)\n",
    "        return\n",
    "    s+=str[idx]\n",
    "    Skip(str,s,idx+2)\n",
    "Skip(\"Kishore Reddy\",\"\",0)"
   ]
  },
  {
   "cell_type": "code",
   "execution_count": 4,
   "id": "e04c1c5b",
   "metadata": {},
   "outputs": [
    {
     "name": "stdout",
     "output_type": "stream",
     "text": [
      "bcd\n"
     ]
    }
   ],
   "source": [
    "## Skip \"a\" character in string\n",
    "def Skip(ans,original,idx):\n",
    "    if idx == len(original):\n",
    "        print(ans)\n",
    "        return \n",
    "    ch = original[idx]\n",
    "    if ch != 'a':\n",
    "        ans+=original[idx]\n",
    "    Skip(ans,original,idx+1)\n",
    "Skip(\"\",\"abaacad\",0)"
   ]
  },
  {
   "cell_type": "code",
   "execution_count": null,
   "id": "0337ccc3",
   "metadata": {},
   "outputs": [
    {
     "name": "stdout",
     "output_type": "stream",
     "text": [
      "['abc', 'ab', 'ac', 'a', 'bc', 'b', 'c', '']\n"
     ]
    }
   ],
   "source": [
    "## Subset of a String Unique Characters\n",
    "def Subset(ans,original,lst,idx):\n",
    "    if idx == len(original):\n",
    "        lst.append(ans)\n",
    "        return\n",
    "    ch = original[idx]\n",
    "    Subset(ans+ch,original,lst,idx+1)   #With\n",
    "    Subset(ans,original,lst,idx+1)  #With Out\n",
    "lst = []\n",
    "Subset(\"\",\"abc\",lst,0)\n",
    "print(lst)"
   ]
  },
  {
   "cell_type": "code",
   "execution_count": 9,
   "id": "4a22b1bb",
   "metadata": {},
   "outputs": [
    {
     "name": "stdout",
     "output_type": "stream",
     "text": [
      "['abc', 'ab', 'ac', 'a', 'abc', 'ab', 'ac', 'a', 'bc', 'b', 'c', '']\n"
     ]
    }
   ],
   "source": [
    "## Subset II original string contains duplicates but subsets must not contain duplicates\n",
    "def subset(ans,original,lst,idx,flag):\n",
    "    if idx == len(original):\n",
    "        lst.append(ans)\n",
    "        return\n",
    "    ch = original[idx]\n",
    "    if idx == len(original)-1:\n",
    "        if flag == True:\n",
    "            subset(ans+ch,original,lst,idx+1,True)\n",
    "        subset(ans,original,lst,idx+1,True)\n",
    "        return\n",
    "    if original[idx] == original[idx+1]:\n",
    "        if flag == True:\n",
    "            subset(ans+ch,original,lst,idx+1,False)\n",
    "        subset(ans,original,lst,idx+1,True)\n",
    "    else:\n",
    "        if flag == True:\n",
    "            subset(ans+ch,original,lst,idx+1,True)\n",
    "        subset(ans,original,lst,idx+1,True)\n",
    "lst = []\n",
    "subset(\"\",\"aabc\",lst,0,True)\n",
    "print(lst)"
   ]
  },
  {
   "cell_type": "code",
   "execution_count": 13,
   "id": "f46b93d4",
   "metadata": {},
   "outputs": [
    {
     "name": "stdout",
     "output_type": "stream",
     "text": [
      "['123', '124', '125', '134', '135', '145', '234', '235', '245', '345']\n"
     ]
    }
   ],
   "source": [
    "## Print All Inceresing Subsequence of len k from n natural numbers\n",
    "def Subsequence(ans,original,lst,k,idx):\n",
    "    if idx == len(original):\n",
    "        if len(ans) == k:\n",
    "            lst.append(ans)\n",
    "        return\n",
    "    ch = original[idx]\n",
    "    Subsequence(ans+ch,original,lst,k,idx+1)\n",
    "    Subsequence(ans,original,lst,k,idx+1,)\n",
    "lst = []\n",
    "Subsequence(\"\",\"12345\",lst,3,0)\n",
    "print(lst)"
   ]
  },
  {
   "cell_type": "code",
   "execution_count": 23,
   "id": "a8019a2d",
   "metadata": {},
   "outputs": [
    {
     "name": "stdout",
     "output_type": "stream",
     "text": [
      "['abc', 'acb', 'bac', 'bca', 'cab', 'cba']\n"
     ]
    }
   ],
   "source": [
    "## Permutations\n",
    "def Permutations(ans,original,lst):\n",
    "    if len(original)==0:\n",
    "        lst.append(ans)\n",
    "        return\n",
    "    for i in range(len(original)):\n",
    "        ch = original[i]\n",
    "        left = original[:i]\n",
    "        right = original[i+1:]\n",
    "        Permutations(ans+ch,left+right,lst)\n",
    "lst = []\n",
    "Permutations(\"\",\"abc\",lst)\n",
    "print(lst)"
   ]
  }
 ],
 "metadata": {
  "kernelspec": {
   "display_name": "Python 3",
   "language": "python",
   "name": "python3"
  },
  "language_info": {
   "codemirror_mode": {
    "name": "ipython",
    "version": 3
   },
   "file_extension": ".py",
   "mimetype": "text/x-python",
   "name": "python",
   "nbconvert_exporter": "python",
   "pygments_lexer": "ipython3",
   "version": "3.13.5"
  }
 },
 "nbformat": 4,
 "nbformat_minor": 5
}
