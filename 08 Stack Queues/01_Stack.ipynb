{
 "cells": [
  {
   "cell_type": "markdown",
   "id": "a1ed13c8",
   "metadata": {},
   "source": [
    "### Introduction To Stack Data Structure\n",
    "stack is a linear Data Structure that follows LIFO(Last In First Out) Principle, The last element inserted is the First to be Poped out"
   ]
  },
  {
   "cell_type": "code",
   "execution_count": 57,
   "id": "3b3f611e",
   "metadata": {},
   "outputs": [
    {
     "name": "stdout",
     "output_type": "stream",
     "text": [
      "[10, 20, 30, 40]\n",
      "[10, 20]\n",
      "20\n"
     ]
    }
   ],
   "source": [
    "st = []\n",
    "st.append(10)\n",
    "st.append(20)\n",
    "st.append(30)\n",
    "st.append(40)\n",
    "print(st)\n",
    "st.pop()\n",
    "st.pop()\n",
    "print(st)\n",
    "## Print Top Element\n",
    "print(st[-1])"
   ]
  },
  {
   "cell_type": "markdown",
   "id": "2a4411ef",
   "metadata": {},
   "source": [
    "### Stack Implementation Using List"
   ]
  },
  {
   "cell_type": "code",
   "execution_count": 58,
   "id": "5351b701",
   "metadata": {},
   "outputs": [
    {
     "name": "stdout",
     "output_type": "stream",
     "text": [
      "40\n",
      "30\n",
      "3\n"
     ]
    }
   ],
   "source": [
    "## List Implementation of Stack\n",
    "class Stack:\n",
    "    def __init__(self):\n",
    "        self.st = []\n",
    "\n",
    "    def push(self,val):\n",
    "        self.st.append(val)\n",
    "\n",
    "    def pop(self):\n",
    "        if len(self.st)<=0:\n",
    "            return -1\n",
    "        self.st.pop()\n",
    "\n",
    "    def top(self):\n",
    "        if len(self.st)<=0:\n",
    "            return -1\n",
    "        return self.st[-1]\n",
    "    \n",
    "    def size(self):\n",
    "        return len(self.st)\n",
    "st = Stack()\n",
    "st.push(10)\n",
    "st.push(20)\n",
    "st.push(30)\n",
    "st.push(40)\n",
    "print(st.top())\n",
    "st.pop()\n",
    "print(st.top())\n",
    "print(st.size())\n"
   ]
  },
  {
   "cell_type": "markdown",
   "id": "9f1164b0",
   "metadata": {},
   "source": [
    "### Stack Implementation Using Linked List"
   ]
  },
  {
   "cell_type": "code",
   "execution_count": 59,
   "id": "ab82263c",
   "metadata": {},
   "outputs": [],
   "source": [
    "class Node:\n",
    "    def __init__(self,val):\n",
    "        self.val = val\n",
    "        self.next = None"
   ]
  },
  {
   "cell_type": "code",
   "execution_count": 60,
   "id": "0d8f2484",
   "metadata": {},
   "outputs": [],
   "source": [
    "class Stack:\n",
    "    def __init__(self):\n",
    "        self.top = None\n",
    "        self.len = 0\n",
    "    \n",
    "    def push(self,val):\n",
    "        if self.top == None:\n",
    "            newNode = Node(val)\n",
    "            self.top = newNode\n",
    "            self.len += 1\n",
    "            return\n",
    "        else:\n",
    "            newNode = Node(val)\n",
    "            newNode.next = self.top\n",
    "            self.top = newNode\n",
    "            self.len += 1\n",
    "            return\n",
    "        \n",
    "    def pop(self):\n",
    "        if self.top is None:\n",
    "            return None\n",
    "        else:\n",
    "            x = self.top.val\n",
    "            self.top = self.top.next\n",
    "            self.len -= 1\n",
    "            return x\n",
    "    \n",
    "    def peek(self):  # Changed from top() to peek()\n",
    "        if self.top is None:\n",
    "            return None\n",
    "        return self.top.val\n",
    "\n",
    "    def size(self):\n",
    "        return self.len\n",
    "    "
   ]
  },
  {
   "cell_type": "code",
   "execution_count": 61,
   "id": "0e7ec386",
   "metadata": {},
   "outputs": [
    {
     "name": "stdout",
     "output_type": "stream",
     "text": [
      "40\n",
      "30\n",
      "3\n"
     ]
    }
   ],
   "source": [
    "st =  Stack()\n",
    "st = Stack()\n",
    "st.push(10)\n",
    "st.push(20)\n",
    "st.push(30)\n",
    "st.push(40)\n",
    "print(st.peek())\n",
    "st.pop()\n",
    "print(st.peek())\n",
    "print(st.size())"
   ]
  },
  {
   "cell_type": "code",
   "execution_count": 62,
   "id": "eafb1f3e",
   "metadata": {},
   "outputs": [],
   "source": [
    "## Print Stack Elements\n",
    "def print_original_order(stack):\n",
    "    if stack.peek() is None:\n",
    "        print(\"Stack is empty\")\n",
    "        return\n",
    "    temp = Stack()\n",
    "    while stack.peek() is not None:\n",
    "        val = stack.pop()\n",
    "        temp.push(val)\n",
    "    while temp.peek() is not None:\n",
    "        val = temp.pop()\n",
    "        print(val,end=\" \")\n",
    "        stack.push(val)\n"
   ]
  },
  {
   "cell_type": "code",
   "execution_count": 63,
   "id": "72326db3",
   "metadata": {},
   "outputs": [],
   "source": [
    "## Print Stack in Reverse Order\n",
    "def print_reverse_order(stack):\n",
    "    if stack.peek() is None:\n",
    "        print(\"Stack is empty\")\n",
    "        return\n",
    "    temp = Stack()\n",
    "    while stack.peek() is not None:\n",
    "        val = stack.pop()\n",
    "        print(val,end=\" \")\n",
    "        temp.push(val)\n",
    "    while temp.peek() is not None:\n",
    "        val = temp.pop()\n",
    "        stack.push(val)\n"
   ]
  },
  {
   "cell_type": "code",
   "execution_count": 64,
   "id": "bc708fa7",
   "metadata": {},
   "outputs": [],
   "source": [
    "## Reverse Stack\n",
    "def reverse(stack):\n",
    "    if stack.peek() is None:\n",
    "        print(\"Stack is empty\")\n",
    "        return\n",
    "    temp = Stack()\n",
    "    rev = Stack()\n",
    "\n",
    "    while stack.peek() is not None:\n",
    "        val = stack.pop()\n",
    "        temp.push(val)\n",
    "\n",
    "    while temp.peek() is not None:\n",
    "        val = temp.pop()\n",
    "        rev.push(val)\n",
    " \n",
    "    while rev.peek() is not None:\n",
    "        val = rev.pop()  \n",
    "        stack.push(val)"
   ]
  },
  {
   "cell_type": "code",
   "execution_count": 65,
   "id": "1f7b540b",
   "metadata": {},
   "outputs": [],
   "source": [
    "## Print stack elements \n",
    "st1 = Stack()\n",
    "st1.push(10)\n",
    "st1.push(20)\n",
    "st1.push(30)\n",
    "st1.push(40)\n",
    "st1.push(50)\n",
    "st1.push(60)"
   ]
  },
  {
   "cell_type": "code",
   "execution_count": 66,
   "id": "170364b6",
   "metadata": {},
   "outputs": [
    {
     "name": "stdout",
     "output_type": "stream",
     "text": [
      "10 20 30 40 50 60 "
     ]
    }
   ],
   "source": [
    "print_original_order(st1)"
   ]
  },
  {
   "cell_type": "code",
   "execution_count": 67,
   "id": "aee7046f",
   "metadata": {},
   "outputs": [
    {
     "name": "stdout",
     "output_type": "stream",
     "text": [
      "60 50 40 30 20 10 "
     ]
    }
   ],
   "source": [
    "print_reverse_order(st1)"
   ]
  },
  {
   "cell_type": "code",
   "execution_count": 68,
   "id": "308d2656",
   "metadata": {},
   "outputs": [
    {
     "name": "stdout",
     "output_type": "stream",
     "text": [
      "60 50 40 30 20 10 "
     ]
    }
   ],
   "source": [
    "reverse(st1)\n",
    "print_original_order(st1)"
   ]
  },
  {
   "cell_type": "code",
   "execution_count": 69,
   "id": "27cb3b38",
   "metadata": {},
   "outputs": [],
   "source": [
    "## Print A Stack using Recursion\n",
    "def Print(stack):\n",
    "    if stack.peek() is None:\n",
    "        return\n",
    "    val = stack.pop()\n",
    "    Print(stack)\n",
    "    stack.push(val)\n",
    "    print(val,end=\" \")"
   ]
  },
  {
   "cell_type": "code",
   "execution_count": 70,
   "id": "9fa29667",
   "metadata": {},
   "outputs": [],
   "source": [
    "## Print reverse Stack using Recursion\n",
    "def RevPrint(stack):\n",
    "    if stack.peek() is None:\n",
    "        return\n",
    "    val = stack.pop()\n",
    "    print(val,end=\" \")\n",
    "    RevPrint(stack)\n",
    "    stack.push(val) "
   ]
  },
  {
   "cell_type": "code",
   "execution_count": 71,
   "id": "875d6f96",
   "metadata": {},
   "outputs": [],
   "source": [
    "def Reverse(stack):\n",
    "    if stack.peek() is None:\n",
    "        return\n",
    "    val = stack.pop()\n",
    "    Reverse(stack)\n",
    "    insert_at_bottom(stack, val) \n",
    "\n",
    "def insert_at_bottom(stack, val):\n",
    "    if stack.peek() is None:\n",
    "        stack.push(val)\n",
    "    else:\n",
    "        temp = stack.pop()\n",
    "        insert_at_bottom(stack, val)\n",
    "        stack.push(temp)"
   ]
  },
  {
   "cell_type": "code",
   "execution_count": 72,
   "id": "e05221f3",
   "metadata": {},
   "outputs": [
    {
     "name": "stdout",
     "output_type": "stream",
     "text": [
      "60 50 40 30 20 10 "
     ]
    }
   ],
   "source": [
    "Print(st1)"
   ]
  },
  {
   "cell_type": "code",
   "execution_count": 73,
   "id": "eec56e2a",
   "metadata": {},
   "outputs": [
    {
     "name": "stdout",
     "output_type": "stream",
     "text": [
      "10 20 30 40 50 60 "
     ]
    }
   ],
   "source": [
    "RevPrint(st1)"
   ]
  },
  {
   "cell_type": "code",
   "execution_count": 74,
   "id": "b05b53ea",
   "metadata": {},
   "outputs": [
    {
     "name": "stdout",
     "output_type": "stream",
     "text": [
      "10 20 30 40 50 60 "
     ]
    }
   ],
   "source": [
    "Reverse(st1)\n",
    "Print(st1)"
   ]
  },
  {
   "cell_type": "code",
   "execution_count": 77,
   "id": "a7365928",
   "metadata": {},
   "outputs": [],
   "source": [
    "## Insert At a Position\n",
    "def insert_at_index(stack,value,index):\n",
    "    if stack.peek() is None:\n",
    "        stack.push(value)\n",
    "    else:\n",
    "        temp = Stack()\n",
    "        for i in range(stack.size()-index):\n",
    "            val = stack.pop()\n",
    "            temp.push(val)\n",
    "        stack.push(value)\n",
    "        while temp.peek() is not None:\n",
    "            stack.push(temp.pop())"
   ]
  },
  {
   "cell_type": "code",
   "execution_count": 78,
   "id": "83891b7a",
   "metadata": {},
   "outputs": [
    {
     "name": "stdout",
     "output_type": "stream",
     "text": [
      "10 20 30 40 50 60 "
     ]
    }
   ],
   "source": [
    "print_original_order(st1)"
   ]
  },
  {
   "cell_type": "code",
   "execution_count": 79,
   "id": "21f1cb26",
   "metadata": {},
   "outputs": [
    {
     "name": "stdout",
     "output_type": "stream",
     "text": [
      "10 20 30 1000 40 50 60 "
     ]
    }
   ],
   "source": [
    "insert_at_index(st1,1000,3)\n",
    "print_original_order(st1)"
   ]
  }
 ],
 "metadata": {
  "kernelspec": {
   "display_name": "Python 3",
   "language": "python",
   "name": "python3"
  },
  "language_info": {
   "codemirror_mode": {
    "name": "ipython",
    "version": 3
   },
   "file_extension": ".py",
   "mimetype": "text/x-python",
   "name": "python",
   "nbconvert_exporter": "python",
   "pygments_lexer": "ipython3",
   "version": "3.13.5"
  }
 },
 "nbformat": 4,
 "nbformat_minor": 5
}
