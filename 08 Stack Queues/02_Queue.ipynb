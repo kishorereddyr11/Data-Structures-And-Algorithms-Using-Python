{
 "cells": [
  {
   "cell_type": "markdown",
   "id": "836f807f",
   "metadata": {},
   "source": [
    "### Introduction To Queue Data Structure\n",
    "Queue is a linear Data Structure that follows FIFO(First In First Out) Principle, The First element inserted is the First to be Poped out"
   ]
  },
  {
   "cell_type": "code",
   "execution_count": 1,
   "id": "e4367945",
   "metadata": {},
   "outputs": [],
   "source": [
    "##Push\n",
    "##Pop\n",
    "##Front\n",
    "##isEmpty\n",
    "##isFull"
   ]
  },
  {
   "cell_type": "markdown",
   "id": "ea903d84",
   "metadata": {},
   "source": [
    "#### Queue Implementation Using Array"
   ]
  },
  {
   "cell_type": "code",
   "execution_count": 10,
   "id": "47025825",
   "metadata": {},
   "outputs": [],
   "source": [
    "class  queue:\n",
    "    def __init__(self):\n",
    "        self.q = []\n",
    "        self.front = -1\n",
    "    \n",
    "    def push(self,val):\n",
    "        if self.front == -1:\n",
    "            self.front = 0\n",
    "        self.q.append(val)\n",
    "    \n",
    "    def pop(self):\n",
    "        if len(self.q)==0:\n",
    "            return -1\n",
    "        else:\n",
    "            x = self.q[self.front]\n",
    "            self.front+=1\n",
    "            if self.front == len(self.q):\n",
    "                self.front = -1\n",
    "                self.q = []\n",
    "            return x\n",
    "        \n",
    "    def getFront(self):\n",
    "        if len(self.q)==0:\n",
    "            return -1\n",
    "        return self.q[self.front]\n",
    "    \n",
    "    def size(self):\n",
    "        if self.front == -1:\n",
    "            return 0\n",
    "        return len(self.q) - self.front\n"
   ]
  },
  {
   "cell_type": "code",
   "execution_count": 11,
   "id": "d2830e2a",
   "metadata": {},
   "outputs": [
    {
     "name": "stdout",
     "output_type": "stream",
     "text": [
      "10\n",
      "20\n",
      "3\n"
     ]
    }
   ],
   "source": [
    "q = queue()\n",
    "q.push(10)\n",
    "q.push(20)\n",
    "q.push(30)\n",
    "q.push(40)\n",
    "\n",
    "print(q.getFront())\n",
    "\n",
    "q.pop()\n",
    "\n",
    "print(q.getFront())\n",
    "\n",
    "print(q.size())\n"
   ]
  },
  {
   "cell_type": "markdown",
   "id": "0e583e01",
   "metadata": {},
   "source": [
    "#### Queue Implementation Using LinkedList"
   ]
  },
  {
   "cell_type": "code",
   "execution_count": 12,
   "id": "00edfa2f",
   "metadata": {},
   "outputs": [],
   "source": [
    "class Node:\n",
    "    def __init__(self,val):\n",
    "        self.val = val\n",
    "        self.next = None"
   ]
  },
  {
   "cell_type": "code",
   "execution_count": 13,
   "id": "64520fed",
   "metadata": {},
   "outputs": [],
   "source": [
    "class Queue:\n",
    "    def __init__(self):\n",
    "        self.head = None\n",
    "        self.tail = None\n",
    "        self.len = 0\n",
    "    \n",
    "    def push(self,val):\n",
    "        newNode = Node(val)\n",
    "        if self.head is None:\n",
    "            self.head = newNode\n",
    "            self.tail = newNode\n",
    "            self.len+=1\n",
    "        else:\n",
    "            self.tail.next = newNode\n",
    "            self.tail = newNode\n",
    "            self.len+=1\n",
    "\n",
    "    def pop(self):\n",
    "        if self.head is None:\n",
    "            return -1\n",
    "        else:\n",
    "            x = self.head.val\n",
    "            self.head = self.head.next\n",
    "            if self.head is None:\n",
    "                self.tail = None\n",
    "            self.len-=1\n",
    "            return x\n",
    "        \n",
    "    def getFront(self):\n",
    "        if self.head is None:\n",
    "            return -1\n",
    "        else:\n",
    "            return self.head.val\n",
    "        \n",
    "    def size(self):\n",
    "        return self.len"
   ]
  },
  {
   "cell_type": "code",
   "execution_count": 14,
   "id": "8e64e714",
   "metadata": {},
   "outputs": [
    {
     "name": "stdout",
     "output_type": "stream",
     "text": [
      "10\n",
      "20\n",
      "3\n"
     ]
    }
   ],
   "source": [
    "q = Queue()\n",
    "q.push(10)\n",
    "q.push(20)\n",
    "q.push(30)\n",
    "q.push(40)\n",
    "\n",
    "print(q.getFront())\n",
    "\n",
    "q.pop()\n",
    "\n",
    "print(q.getFront())\n",
    "\n",
    "print(q.size())\n"
   ]
  },
  {
   "cell_type": "code",
   "execution_count": null,
   "id": "8caccf9a",
   "metadata": {},
   "outputs": [],
   "source": []
  }
 ],
 "metadata": {
  "kernelspec": {
   "display_name": "Python 3",
   "language": "python",
   "name": "python3"
  },
  "language_info": {
   "codemirror_mode": {
    "name": "ipython",
    "version": 3
   },
   "file_extension": ".py",
   "mimetype": "text/x-python",
   "name": "python",
   "nbconvert_exporter": "python",
   "pygments_lexer": "ipython3",
   "version": "3.13.5"
  }
 },
 "nbformat": 4,
 "nbformat_minor": 5
}
