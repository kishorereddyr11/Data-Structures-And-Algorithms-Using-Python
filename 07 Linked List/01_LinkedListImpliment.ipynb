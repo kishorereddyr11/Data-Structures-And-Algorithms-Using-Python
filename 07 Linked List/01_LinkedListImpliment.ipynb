{
 "cells": [
  {
   "cell_type": "markdown",
   "id": "fd6e4fe0",
   "metadata": {},
   "source": [
    "### Singly Linked List"
   ]
  },
  {
   "cell_type": "code",
   "execution_count": 46,
   "id": "add5274a",
   "metadata": {},
   "outputs": [],
   "source": [
    "class Node:\n",
    "    def __init__(self,data):\n",
    "        self.data = data\n",
    "        self.next = None\n",
    "\n",
    "a = Node(10) # a(10,None)\n",
    "b = Node(20) # b(20,None)\n",
    "c = Node(30) # c(30,None)\n",
    "d = Node(40) # d(40,None)\n",
    "e = Node(50) # e(50,None)\n",
    "\n",
    "## Connect the Nodes\n",
    "a.next = b # a(10,address of b)\n",
    "b.next = c # b(20,address of c)\n",
    "c.next = d # c(30,address of d)\n",
    "d.next = e # d(40,address of e)\n",
    "# e(50,None)\n",
    "\n",
    "head = a\n"
   ]
  },
  {
   "cell_type": "code",
   "execution_count": 4,
   "id": "2b004c7c",
   "metadata": {},
   "outputs": [],
   "source": [
    "## Traverse through Linked List\n",
    "def Print(head):\n",
    "    temp = head\n",
    "    while temp!=None:\n",
    "        print(temp.data,end=\" \")\n",
    "        temp = temp.next"
   ]
  },
  {
   "cell_type": "code",
   "execution_count": null,
   "id": "16cbb801",
   "metadata": {},
   "outputs": [
    {
     "name": "stdout",
     "output_type": "stream",
     "text": [
      "10 20 30 40 50 "
     ]
    }
   ],
   "source": [
    "Print(head)"
   ]
  },
  {
   "cell_type": "code",
   "execution_count": 50,
   "id": "06f7c2fa",
   "metadata": {},
   "outputs": [
    {
     "name": "stdout",
     "output_type": "stream",
     "text": [
      "0 10 20 30 40 50 "
     ]
    }
   ],
   "source": [
    "## Insert At Head\n",
    "newNode = Node(0)\n",
    "newNode.next = head\n",
    "head = newNode\n",
    "\n",
    "Print(head)"
   ]
  },
  {
   "cell_type": "code",
   "execution_count": 51,
   "id": "738f054f",
   "metadata": {},
   "outputs": [
    {
     "name": "stdout",
     "output_type": "stream",
     "text": [
      "0 10 20 30 40 50 60 "
     ]
    }
   ],
   "source": [
    "## Insert At Tail\n",
    "newNode = Node(60)\n",
    "temp = head\n",
    "while temp.next!=None:\n",
    "    temp = temp.next\n",
    "temp.next = newNode\n",
    "Print(head)"
   ]
  },
  {
   "cell_type": "code",
   "execution_count": 56,
   "id": "cf373479",
   "metadata": {},
   "outputs": [
    {
     "name": "stdout",
     "output_type": "stream",
     "text": [
      "10 100 30 20 40 50 "
     ]
    }
   ],
   "source": [
    "## Insert At Any Index\n",
    "k = 3\n",
    "newNode = Node(20)\n",
    "temp = head\n",
    "for i in range(k-1):\n",
    "    temp = temp.next\n",
    "newNode.next = temp.next\n",
    "temp.next = newNode\n",
    "Print(head)"
   ]
  },
  {
   "cell_type": "code",
   "execution_count": 53,
   "id": "31cf018b",
   "metadata": {},
   "outputs": [
    {
     "name": "stdout",
     "output_type": "stream",
     "text": [
      "10 100 20 30 40 50 60 "
     ]
    }
   ],
   "source": [
    "## Delete At Head\n",
    "head = head.next\n",
    "Print(head)"
   ]
  },
  {
   "cell_type": "code",
   "execution_count": 54,
   "id": "859d155b",
   "metadata": {},
   "outputs": [
    {
     "name": "stdout",
     "output_type": "stream",
     "text": [
      "10 100 20 30 40 50 "
     ]
    }
   ],
   "source": [
    "## Delete At Tail\n",
    "temp = head\n",
    "while temp.next.next != None:\n",
    "    temp = temp.next\n",
    "temp.next = None\n",
    "Print(head)"
   ]
  },
  {
   "cell_type": "code",
   "execution_count": 57,
   "id": "6ccad60f",
   "metadata": {},
   "outputs": [
    {
     "name": "stdout",
     "output_type": "stream",
     "text": [
      "10 30 20 40 50 "
     ]
    }
   ],
   "source": [
    "## Delete At Any Index\n",
    "k = 1\n",
    "temp = head\n",
    "for i in range(k-1):\n",
    "    temp = temp.next\n",
    "temp.next = temp.next.next\n",
    "Print(head)"
   ]
  },
  {
   "cell_type": "markdown",
   "id": "883679aa",
   "metadata": {},
   "source": [
    "### Circular Linked List"
   ]
  },
  {
   "cell_type": "code",
   "execution_count": null,
   "id": "4d8c81a7",
   "metadata": {},
   "outputs": [],
   "source": [
    "class CircularNode:\n",
    "    def __init__(self,data):\n",
    "        self.data = data\n",
    "        self.next = None\n",
    "\n",
    "a = CircularNode(10) # a(10,None)\n",
    "b = CircularNode(20) # b(20,None)\n",
    "c = CircularNode(30) # c(30,None)\n",
    "d = CircularNode(40) # d(40,None)\n",
    "e = CircularNode(50) # e(50,None)\n",
    "\n",
    "## Connect the Nodes\n",
    "a.next = b # a(10,address of b)\n",
    "b.next = c # b(20,address of c)\n",
    "c.next = d # c(30,address of d)\n",
    "d.next = e # d(40,address of e)\n",
    "e.next = a # e(50,address of a)\n",
    "\n",
    "head = a\n"
   ]
  },
  {
   "cell_type": "code",
   "execution_count": 59,
   "id": "8d7bc2c4",
   "metadata": {},
   "outputs": [
    {
     "name": "stdout",
     "output_type": "stream",
     "text": [
      "10 20 30 40 50 "
     ]
    }
   ],
   "source": [
    "## Treverse thorugh Circular Linked list\n",
    "temp = head\n",
    "while True:\n",
    "    print(temp.data, end = \" \")\n",
    "    temp = temp.next\n",
    "    if temp == head:\n",
    "        break"
   ]
  },
  {
   "cell_type": "markdown",
   "id": "ed7a5e60",
   "metadata": {},
   "source": [
    "### Doubly Linked List"
   ]
  },
  {
   "cell_type": "code",
   "execution_count": 2,
   "id": "a05d8aef",
   "metadata": {},
   "outputs": [],
   "source": [
    "class DoublyNode:\n",
    "    def __init__(self,data):\n",
    "        self.prev = None\n",
    "        self.data = data\n",
    "        self.next = None\n",
    "\n",
    "a = DoublyNode(10) # a(None,10,None)\n",
    "b = DoublyNode(20) # b(None,20,None)\n",
    "c = DoublyNode(30) # c(None,30,None)\n",
    "d = DoublyNode(40) # d(None,40,None)\n",
    "e = DoublyNode(50) # e(None,50,None)\n",
    "\n",
    "## Connect the Nodes\n",
    "a.next = b # a(None,10,address of b)\n",
    "b.prev = a \n",
    "b.next = c # b(address of a,20,address of c)\n",
    "c.prev = b\n",
    "c.next = d # c(address of b,30,address of d)\n",
    "d.prev = c\n",
    "d.next = e # d(address of c,40,address of e)\n",
    "e.prev = d\n",
    "\n",
    "\n",
    "head = a\n",
    "tail = e\n"
   ]
  },
  {
   "cell_type": "code",
   "execution_count": 13,
   "id": "cdb4ab88",
   "metadata": {},
   "outputs": [],
   "source": [
    "## Print Reverse of Linked list Uing prev pointer\n",
    "def RevPrint(tail):\n",
    "    temp = tail \n",
    "    while temp!=None:\n",
    "        print(temp.data,end=\" \")\n",
    "        temp = temp.prev"
   ]
  },
  {
   "cell_type": "code",
   "execution_count": 66,
   "id": "764a20c2",
   "metadata": {},
   "outputs": [
    {
     "name": "stdout",
     "output_type": "stream",
     "text": [
      "10 20 30 40 50 "
     ]
    }
   ],
   "source": [
    "## Traverse Linked List From front using next Pointer\n",
    "temp = head \n",
    "while temp!=None:\n",
    "    print(temp.data,end=\" \")\n",
    "    temp = temp.next"
   ]
  },
  {
   "cell_type": "code",
   "execution_count": 6,
   "id": "8ef72a92",
   "metadata": {},
   "outputs": [
    {
     "name": "stdout",
     "output_type": "stream",
     "text": [
      "0 10 20 30 40 50 60 60 "
     ]
    }
   ],
   "source": [
    "## Insert At head\n",
    "newNode = DoublyNode(0)\n",
    "newNode.next = head\n",
    "head.prev = newNode\n",
    "head = newNode\n",
    "Print(head)"
   ]
  },
  {
   "cell_type": "code",
   "execution_count": 7,
   "id": "217bc20b",
   "metadata": {},
   "outputs": [
    {
     "name": "stdout",
     "output_type": "stream",
     "text": [
      "0 10 20 30 40 50 60 60 60 "
     ]
    }
   ],
   "source": [
    "## Insert At Tail\n",
    "newNode = DoublyNode(60)\n",
    "tail.next = newNode\n",
    "tail = newNode\n",
    "Print(head)\n"
   ]
  },
  {
   "cell_type": "code",
   "execution_count": null,
   "id": "ee5b326c",
   "metadata": {},
   "outputs": [
    {
     "name": "stdout",
     "output_type": "stream",
     "text": [
      "0 10 20 1000 1000 1000 30 40 50 60 60 60 60 "
     ]
    }
   ],
   "source": [
    "## Insert At any Index\n",
    "newNode = DoublyNode(1000)\n",
    "k = 3\n",
    "temp = head\n",
    "for _ in range(k-1):\n",
    "    temp = temp.next\n",
    "newNode.next = temp.next\n",
    "temp.next = newNode\n",
    "temp.next.prev = newNode\n",
    "newNode.prev = temp\n",
    "Print(head)\n"
   ]
  }
 ],
 "metadata": {
  "kernelspec": {
   "display_name": "Python 3",
   "language": "python",
   "name": "python3"
  },
  "language_info": {
   "codemirror_mode": {
    "name": "ipython",
    "version": 3
   },
   "file_extension": ".py",
   "mimetype": "text/x-python",
   "name": "python",
   "nbconvert_exporter": "python",
   "pygments_lexer": "ipython3",
   "version": "3.13.5"
  }
 },
 "nbformat": 4,
 "nbformat_minor": 5
}
