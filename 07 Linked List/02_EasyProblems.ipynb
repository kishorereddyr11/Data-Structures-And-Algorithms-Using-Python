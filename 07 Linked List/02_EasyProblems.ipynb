{
 "cells": [
  {
   "cell_type": "markdown",
   "id": "11da9a03",
   "metadata": {},
   "source": [
    "### Create Singly Linked List"
   ]
  },
  {
   "cell_type": "code",
   "execution_count": 2,
   "id": "03a82061",
   "metadata": {},
   "outputs": [],
   "source": [
    "class Node:\n",
    "    def __init__(self,val):\n",
    "        self.val = val\n",
    "        self.next = None"
   ]
  },
  {
   "cell_type": "code",
   "execution_count": 3,
   "id": "6b3633ab",
   "metadata": {},
   "outputs": [],
   "source": [
    "a = Node(10)\n",
    "b = Node(20)\n",
    "c = Node(30)\n",
    "d = Node(40)\n",
    "e = Node(50)"
   ]
  },
  {
   "cell_type": "code",
   "execution_count": 4,
   "id": "4e782608",
   "metadata": {},
   "outputs": [],
   "source": [
    "a.next = b\n",
    "b.next = c\n",
    "c.next = d\n",
    "d.next = e"
   ]
  },
  {
   "cell_type": "code",
   "execution_count": 5,
   "id": "be8318ac",
   "metadata": {},
   "outputs": [],
   "source": [
    "head = a"
   ]
  },
  {
   "cell_type": "code",
   "execution_count": 6,
   "id": "e882b714",
   "metadata": {},
   "outputs": [],
   "source": [
    "## Print Linked List\n",
    "def Print(head):\n",
    "    temp = head\n",
    "    while temp != None:\n",
    "        print(temp.val,end=\" \")\n",
    "        temp = temp.next"
   ]
  },
  {
   "cell_type": "code",
   "execution_count": 7,
   "id": "c3deffd4",
   "metadata": {},
   "outputs": [
    {
     "name": "stdout",
     "output_type": "stream",
     "text": [
      "10 20 30 40 50 "
     ]
    }
   ],
   "source": [
    "Print(head)"
   ]
  },
  {
   "cell_type": "markdown",
   "id": "4b3d4e24",
   "metadata": {},
   "source": [
    "### Find Length Of Linked List"
   ]
  },
  {
   "cell_type": "code",
   "execution_count": 8,
   "id": "b8ab651f",
   "metadata": {},
   "outputs": [
    {
     "name": "stdout",
     "output_type": "stream",
     "text": [
      "The Length of The Linked List is : 5\n"
     ]
    }
   ],
   "source": [
    "length = 0\n",
    "temp = head\n",
    "while temp is not None:\n",
    "    length += 1\n",
    "    temp = temp.next\n",
    "print(f\"The Length of The Linked List is : {length}\")"
   ]
  },
  {
   "cell_type": "markdown",
   "id": "416310cf",
   "metadata": {},
   "source": [
    "### Search An Element In a Linked List"
   ]
  },
  {
   "cell_type": "code",
   "execution_count": 9,
   "id": "396b3278",
   "metadata": {},
   "outputs": [],
   "source": [
    "def Search(head, target):\n",
    "    temp = head\n",
    "    while temp is not None:\n",
    "        if temp.val == target:\n",
    "            return True\n",
    "        else:\n",
    "            temp = temp.next\n",
    "    return False"
   ]
  },
  {
   "cell_type": "code",
   "execution_count": 10,
   "id": "735dbb8c",
   "metadata": {},
   "outputs": [
    {
     "name": "stdout",
     "output_type": "stream",
     "text": [
      "The Element 20 present in Linked List\n"
     ]
    }
   ],
   "source": [
    "target = 20\n",
    "if Search(head, target):\n",
    "    print(f\"The Element {target} present in Linked List\")\n",
    "else:\n",
    "    print(f\"The Element {target} not present in Linked List\")"
   ]
  },
  {
   "cell_type": "code",
   "execution_count": 11,
   "id": "d41aa940",
   "metadata": {},
   "outputs": [
    {
     "name": "stdout",
     "output_type": "stream",
     "text": [
      "The Element 22 not present in Linked List\n"
     ]
    }
   ],
   "source": [
    "target = 22\n",
    "if Search(head,target):\n",
    "    print(f\"The Element {target} present in Linked List\")\n",
    "else:\n",
    "    print(f\"The Element {target} not present in Linked List\")"
   ]
  },
  {
   "cell_type": "markdown",
   "id": "def7ba09",
   "metadata": {},
   "source": [
    "### Middle of the Linked List - Brute Force approach\n"
   ]
  },
  {
   "cell_type": "code",
   "execution_count": 12,
   "id": "d42b2433",
   "metadata": {},
   "outputs": [
    {
     "name": "stdout",
     "output_type": "stream",
     "text": [
      "Middle of The Linked List is 30\n"
     ]
    }
   ],
   "source": [
    "## Brute Force approach\n",
    "## 10 20 30 40 50\n",
    "def length(head):\n",
    "    length = 0\n",
    "    temp = head\n",
    "    while temp is not None:\n",
    "        length += 1\n",
    "        temp = temp.next\n",
    "    return length\n",
    "\n",
    "def middleNode(head):\n",
    "    ## Find Length\n",
    "    len = length(head) \n",
    "    if len % 2 == 0:\n",
    "        mid = len / 2\n",
    "    else :\n",
    "        mid = (len // 2) + 1\n",
    "    temp = head\n",
    "    for i in range(1,mid):\n",
    "        temp = temp.next\n",
    "    print(f\"Middle of The Linked List is {temp.val}\")\n",
    "  \n",
    "middleNode(head)"
   ]
  },
  {
   "cell_type": "markdown",
   "id": "df8338d5",
   "metadata": {},
   "source": [
    "### Middle of the Linked List - Optimal Approach or Slow Fast Pointer Approach"
   ]
  },
  {
   "cell_type": "code",
   "execution_count": 13,
   "id": "430801c3",
   "metadata": {},
   "outputs": [
    {
     "name": "stdout",
     "output_type": "stream",
     "text": [
      "Middle of The Linked List is 30\n"
     ]
    }
   ],
   "source": [
    "## SF slow fast pointer Approach\n",
    "def middleNodeSF(head):\n",
    "    slow = head\n",
    "    fast = head\n",
    "    while fast != None and fast.next != None:\n",
    "        slow = slow.next\n",
    "        fast = fast.next.next\n",
    "    return slow.val\n",
    "\n",
    "print(f\"Middle of The Linked List is {middleNodeSF(head)}\")\n"
   ]
  }
 ],
 "metadata": {
  "kernelspec": {
   "display_name": "Python 3",
   "language": "python",
   "name": "python3"
  },
  "language_info": {
   "codemirror_mode": {
    "name": "ipython",
    "version": 3
   },
   "file_extension": ".py",
   "mimetype": "text/x-python",
   "name": "python",
   "nbconvert_exporter": "python",
   "pygments_lexer": "ipython3",
   "version": "3.13.5"
  }
 },
 "nbformat": 4,
 "nbformat_minor": 5
}
