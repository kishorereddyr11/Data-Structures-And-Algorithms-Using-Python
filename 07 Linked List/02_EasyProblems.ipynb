{
 "cells": [
  {
   "cell_type": "code",
   "execution_count": 1,
   "id": "dcd3c440",
   "metadata": {},
   "outputs": [],
   "source": [
    "class Node:\n",
    "    def __init__(self,data):\n",
    "        self.data = data\n",
    "        self.next = None\n",
    "\n",
    "a = Node(10) # a(10,None)\n",
    "b = Node(20) # b(20,None)\n",
    "c = Node(30) # c(30,None)\n",
    "d = Node(40) # d(40,None)\n",
    "e = Node(50) # e(50,None)\n",
    "\n",
    "## Connect the Nodes\n",
    "a.next = b # a(10,address of b)\n",
    "b.next = c # b(20,address of c)\n",
    "c.next = d # c(30,address of d)\n",
    "d.next = e # d(40,address of e)\n",
    "# e(50,None)\n",
    "\n",
    "head = a\n"
   ]
  },
  {
   "cell_type": "code",
   "execution_count": 6,
   "id": "d0f3a679",
   "metadata": {},
   "outputs": [],
   "source": [
    "## Print Linked List using recursion\n",
    "def Print(node):\n",
    "    if node is None:\n",
    "        return\n",
    "    print(node.data,end=\" \")\n",
    "    Print(node.next)"
   ]
  },
  {
   "cell_type": "code",
   "execution_count": 7,
   "id": "d4102755",
   "metadata": {},
   "outputs": [
    {
     "name": "stdout",
     "output_type": "stream",
     "text": [
      "10 20 30 40 50 "
     ]
    }
   ],
   "source": [
    "Print(head)"
   ]
  },
  {
   "cell_type": "code",
   "execution_count": 8,
   "id": "7ac98956",
   "metadata": {},
   "outputs": [],
   "source": [
    "## Print Reverse Linked List using recursion\n",
    "def RevPrint(node):\n",
    "    if node is None:\n",
    "        return\n",
    "    RevPrint(node.next)\n",
    "    print(node.data,end=\" \")"
   ]
  },
  {
   "cell_type": "code",
   "execution_count": 9,
   "id": "4eed83c4",
   "metadata": {},
   "outputs": [
    {
     "name": "stdout",
     "output_type": "stream",
     "text": [
      "50 40 30 20 10 "
     ]
    }
   ],
   "source": [
    "RevPrint(head)"
   ]
  }
 ],
 "metadata": {
  "kernelspec": {
   "display_name": "Python 3",
   "language": "python",
   "name": "python3"
  },
  "language_info": {
   "codemirror_mode": {
    "name": "ipython",
    "version": 3
   },
   "file_extension": ".py",
   "mimetype": "text/x-python",
   "name": "python",
   "nbconvert_exporter": "python",
   "pygments_lexer": "ipython3",
   "version": "3.13.5"
  }
 },
 "nbformat": 4,
 "nbformat_minor": 5
}
